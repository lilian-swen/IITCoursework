{
 "cells": [
  {
   "cell_type": "code",
   "execution_count": 7,
   "id": "e836ae60",
   "metadata": {},
   "outputs": [
    {
     "data": {
      "text/plain": [
       "32561"
      ]
     },
     "execution_count": 7,
     "metadata": {},
     "output_type": "execute_result"
    }
   ],
   "source": [
    "import pandas as pd\n",
    "import numpy as np\n",
    "import matplotlib.pyplot as plt\n",
    "\n",
    "adult_data_url = 'https://archive.ics.uci.edu/ml/machine-learning-databases/adult/adult.data'\n",
    "adult_data = pd.read_csv(adult_data_url, header=None)\n",
    "\n",
    "column_names = ['age', 'workclass', 'fnlwgt', 'education', 'education_num', 'marital_status', \n",
    "                'occupation', 'relationship', 'race', 'sex', 'capital_gain', 'capital_loss', \n",
    "                'hours_per_week', 'native_country', 'income']\n",
    "\n",
    "adult_data.columns = column_names\n",
    "# adult_data.head()  neibouring datasets , two data set should be differ one row\n",
    "len(adult_data.index)"
   ]
  },
  {
   "cell_type": "code",
   "execution_count": 8,
   "id": "04e50461",
   "metadata": {},
   "outputs": [
    {
     "name": "stdout",
     "output_type": "stream",
     "text": [
      "This is the initial query result on data set with age > 25 that average age is 42.78\n"
     ]
    }
   ],
   "source": [
    "# Note: the description is unclear as the Problem one. \n",
    "# Firstly, there's no infomation  about we should generate the date base on which condition of data set\n",
    "# Secondly, there could be not only one record with oldest age!\n",
    "# Since we need to get and keep the data set size is 1000, and the oldest age could be related to multiple people(records)\n",
    "# Hence, I tried to do data proccessing based on the initial data set which is with age > 25 such that I can keep each data size\n",
    "# is 1000 after removing record with the required conditions.\n",
    "\n",
    "\n",
    "# Query the average age of the records (each record is an individual) with age > 25\n",
    "# Filter the data to only include records with age > 25 and calculate the average age\n",
    "adult_data_age_greater25 = adult_data[adult_data['age'] > 25]\n",
    "# The average age of data set with age > 25 \n",
    "original_average_age = adult_data_age_greater25['age'].mean()\n",
    "\n",
    "# This is the initial query result on data set with age > 25\n",
    "original_average_age = round(original_average_age, 2)\n",
    "print('This is the initial query result on data set with age > 25 that average age is', original_average_age)"
   ]
  },
  {
   "cell_type": "code",
   "execution_count": 9,
   "id": "ee26fa29",
   "metadata": {},
   "outputs": [
    {
     "name": "stdout",
     "output_type": "stream",
     "text": [
      "This is the query result by generating 1,000 results that average age is 43.09\n",
      "This is the query result by generating 4,000 results that average age is 42.87\n"
     ]
    }
   ],
   "source": [
    "# Generate 1,000 results for the query over the original dataset\n",
    "df_1000 = adult_data_age_greater25.sample(n=1000, random_state=42)\n",
    "# Query the average age of the records\n",
    "df_average_age_1000 = df_1000['age'].mean()\n",
    "df_average_age_1000 = round(df_average_age_1000, 2)\n",
    "print('This is the query result by generating 1,000 results that average age is', df_average_age_1000)\n",
    "\n",
    "# Generate 4,000 results for the query over the original dataset\n",
    "df_4000 = adult_data_age_greater25.sample(n=4000, random_state=42)\n",
    "\n",
    "# Query the average age of the records\n",
    "df_mean_age_4000 = df_4000['age'].mean()\n",
    "df_mean_age_4000 = round(df_mean_age_4000, 2)\n",
    "print('This is the query result by generating 4,000 results that average age is', df_mean_age_4000)"
   ]
  },
  {
   "cell_type": "code",
   "execution_count": null,
   "id": "e0e55d40",
   "metadata": {},
   "outputs": [],
   "source": []
  },
  {
   "cell_type": "code",
   "execution_count": 10,
   "id": "a011161a",
   "metadata": {},
   "outputs": [
    {
     "name": "stdout",
     "output_type": "stream",
     "text": [
      "This is the query result by generating 1,000 results without_a_oldest_age that average age is 42.58\n",
      "This is the query result by generating 4,000 results without_a_oldest_age that average age is 42.46\n"
     ]
    }
   ],
   "source": [
    "# Data proccessing, remove a record with oldest age\n",
    "oldest_age_record = adult_data_age_greater25['age'].max() # 90\n",
    "df_without_a_oldest_age = adult_data_age_greater25[adult_data_age_greater25['age'] != oldest_age_record]\n",
    "\n",
    "# Generate 1,000 results based on adult_data_age_greater25\n",
    "df_without_a_oldest_age_1000 = df_without_a_oldest_age.sample(n=1000, random_state=42)\n",
    "average_age_df_without_a_oldest_age = df_without_a_oldest_age_1000['age'].mean()\n",
    "average_age_df_without_a_oldest_age = round(average_age_df_without_a_oldest_age, 2)\n",
    "average_age_df_without_a_oldest_age\n",
    "print('This is the query result by generating 1,000 results without_a_oldest_age that average age is', average_age_df_without_a_oldest_age)\n",
    "\n",
    "# Generate 4,000 results for the query over the dataset that removing a record with the oldest age\n",
    "df_without_a_oldest_age_4000 = df_without_a_oldest_age.sample(n=4000, random_state=42)\n",
    "mean_age_df_without_a_oldest_age = df_without_a_oldest_age_4000['age'].mean()\n",
    "mean_age_df_without_a_oldest_age = round(mean_age_df_without_a_oldest_age, 2)\n",
    "mean_age_df_without_a_oldest_age\n",
    "print('This is the query result by generating 4,000 results without_a_oldest_age that average age is', mean_age_df_without_a_oldest_age)"
   ]
  },
  {
   "cell_type": "code",
   "execution_count": 11,
   "id": "a3167b41",
   "metadata": {},
   "outputs": [
    {
     "name": "stdout",
     "output_type": "stream",
     "text": [
      "This is the query result by generating 1,000 results average_age_df_without_26 that average age is 42.93\n",
      "This is the query result by generating 4,000 results average_age_df_without_26 that average age is 43.14\n"
     ]
    }
   ],
   "source": [
    "# Generate 1,000 results for the query over the dataset that removing any record with age = 26\n",
    "df_without_26 = adult_data_age_greater25[adult_data_age_greater25['age'] != 26]\n",
    "df_without_26_1000 = df_without_26.sample(n=1000, random_state=42)\n",
    "\n",
    "average_age_df_without_26 = df_without_26_1000['age'].mean()\n",
    "\n",
    "# Here is the query result based on the new data set\n",
    "average_age_df_without_26 = round(average_age_df_without_26, 2)\n",
    "print('This is the query result by generating 1,000 results average_age_df_without_26 that average age is', average_age_df_without_26)\n",
    "\n",
    "# Generate 4,000 results for the query over the dataset that removing any record with age = 26\n",
    "df_without_26_4000 = df_without_26.sample(n=4000, random_state=42)\n",
    "\n",
    "mean_age_df_without_26 = df_without_26_4000['age'].mean()\n",
    "\n",
    "# Here is the query result based on the new data set\n",
    "mean_age_df_without_26 = round(mean_age_df_without_26, 2)\n",
    "print('This is the query result by generating 4,000 results average_age_df_without_26 that average age is', mean_age_df_without_26)"
   ]
  },
  {
   "cell_type": "code",
   "execution_count": 12,
   "id": "93c32528",
   "metadata": {},
   "outputs": [
    {
     "name": "stdout",
     "output_type": "stream",
     "text": [
      "This is the query result by generating 1,000 results average_age_df_without_youngest_age that average age is 42.93\n",
      "This is the query result by generating 4,000 results average_age_df_without_youngest_age that average age is 43.14\n"
     ]
    }
   ],
   "source": [
    "# Generate 1,000 results for the query over the dataset that removing any record with the youngest age\n",
    "youngest_age = adult_data_age_greater25['age'].min()\n",
    "df_without_youngest_age = adult_data_age_greater25[adult_data_age_greater25['age'] != youngest_age]\n",
    "\n",
    "df_without_youngest_age_1000 = df_without_youngest_age.sample(n=1000, random_state=42)\n",
    "average_age_df_without_youngest_age = df_without_youngest_age_1000['age'].mean()\n",
    "\n",
    "# Here is the query result based on new data set\n",
    "average_age_df_without_youngest_age = round(average_age_df_without_youngest_age, 2)\n",
    "average_age_df_without_youngest_age\n",
    "print('This is the query result by generating 1,000 results average_age_df_without_youngest_age that average age is', average_age_df_without_youngest_age)\n",
    "\n",
    "# Generate 4,000 results for the query over the dataset that removing any record with the youngest age\n",
    "df_without_youngest_age_4000 = df_without_youngest_age.sample(n=4000, random_state=42)\n",
    "mean_age_df_without_youngest_age = df_without_youngest_age_4000['age'].mean()\n",
    "\n",
    "# Here is the query result based on new data set\n",
    "mean_age_df_without_youngest_age = round(mean_age_df_without_youngest_age, 2)\n",
    "mean_age_df_without_youngest_age\n",
    "print('This is the query result by generating 4,000 results average_age_df_without_youngest_age that average age is', mean_age_df_without_youngest_age)"
   ]
  },
  {
   "cell_type": "code",
   "execution_count": null,
   "id": "e9372f87",
   "metadata": {},
   "outputs": [],
   "source": []
  },
  {
   "cell_type": "code",
   "execution_count": 13,
   "id": "ddd98c96",
   "metadata": {},
   "outputs": [],
   "source": [
    "'''\n",
    "Define a measure with Laplace Mechanism\n",
    "A(D) = q(D) + Lap(S/ε) is ε-DP\n",
    "output = A(D), q(D) = new_average_age\n",
    "'''\n",
    "def laplace_mechanism(new_average_age, original_average_age, epsilon):\n",
    "    s = abs(new_average_age - original_average_age)\n",
    "    beta = s/epsilon\n",
    "    noise = np.random.laplace(loc=0.0, scale=beta)\n",
    "    output = new_average_age + noise\n",
    "    output = round(output, 2)\n",
    "    return output\n",
    "\n",
    "'''\n",
    "There are two ways we can compare the distortion\n",
    "way 1: calculate the difference between true answer and noise answer\n",
    "way 2: calculate the variance between true answer and noise answer\n",
    "'''\n",
    "# way 1\n",
    "def cal_difference(original_ave_age, new_average_age):\n",
    "    return abs(original_ave_age - new_average_age)\n",
    "\n",
    "# way 2\n",
    "def cal_variance(original_ave_age, new_average_age, epsilon):\n",
    "    '''Error: E(true answer – noisy answer)2 = Var(Lap(S(q)/e)) = 2*S(q))2/e2'''\n",
    "    variance = 2*(original_ave_age - new_average_age)**2/(epsilon**2)\n",
    "    return variance\n",
    "    "
   ]
  },
  {
   "cell_type": "code",
   "execution_count": null,
   "id": "d2a16f18",
   "metadata": {},
   "outputs": [],
   "source": []
  },
  {
   "cell_type": "code",
   "execution_count": 14,
   "id": "fff61531",
   "metadata": {
    "scrolled": true
   },
   "outputs": [
    {
     "name": "stdout",
     "output_type": "stream",
     "text": [
      "===================== dataset size = 1000, epsilon = 0.5 ==========================\n",
      "* Noise answer == A_D_1_e05 == 84.77\n",
      "* The difference between true answer and noise answer == distortion_A_D_1_e05 == 41.68\n",
      "* The variance between true answer and noise answer == variance_A_D_1_e05 == 13897.78\n",
      "-----------------------------------------------------------------------\n",
      "* Noise answer == A_D_2_e05 == 85.28\n",
      "* The difference between true answer and noise answer == distortion_A_D_2_e05 == 42.19\n",
      "* The variance between true answer and noise answer == variance_A_D_1_e05 == 14239.97\n",
      "-----------------------------------------------------------------------\n",
      "* Noise answer == A_D_3_e05 ==  85.99\n",
      "* The difference between true answer and noise answer == distortion_A_D_3_e05 == 42.9\n",
      "* The variance between true answer and noise answer == variance_A_D_1_e05 == 14723.28\n"
     ]
    }
   ],
   "source": [
    "'''\n",
    "Utilize Laplace Mechanism: A(D) =q(D) + Lap(S/ε) is ε-DP\n",
    "'''\n",
    "print('===================== dataset size = 1000, epsilon = 0.5 ==========================')\n",
    "# dataset size = 1000, noise answer = A(D) of the dataset that removing a record with the oldest age\n",
    "# noise answer = A_D_1_e05\n",
    "\n",
    "epsilon05 = 0.5\n",
    "\n",
    "A_D_1_e05 = average_age_df_without_a_oldest_age + laplace_mechanism(average_age_df_without_a_oldest_age, df_average_age_1000, epsilon05)\n",
    "A_D_1_e05 = round(A_D_1_e05, 2)\n",
    "print('* Noise answer == A_D_1_e05 ==', A_D_1_e05)\n",
    "\n",
    "# The difference between true answer and noise answer that removing a record with the oldest age\n",
    "distortion_A_D_1_e05 = cal_difference(df_average_age_1000, A_D_1_e05)\n",
    "distortion_A_D_1_e05 = round(distortion_A_D_1_e05, 2)\n",
    "print('* The difference between true answer and noise answer == distortion_A_D_1_e05 ==', distortion_A_D_1_e05)\n",
    "\n",
    "# variance of the dataset that removing a record with the oldest age\n",
    "variance_A_D_1_e05 = cal_variance(df_average_age_1000, A_D_1_e05, epsilon05)\n",
    "variance_A_D_1_e05 = round(variance_A_D_1_e05, 2)\n",
    "print('* The variance between true answer and noise answer == variance_A_D_1_e05 ==', variance_A_D_1_e05)\n",
    "print('-----------------------------------------------------------------------')\n",
    "\n",
    "\n",
    "\n",
    "# dataset size = 1000, noise answer = A(D) of the dataset that removing any record with age = 26\n",
    "A_D_2_e05 = average_age_df_without_26 + laplace_mechanism(average_age_df_without_26, df_average_age_1000, epsilon05)\n",
    "A_D_2_e05 = round(A_D_2_e05, 2)\n",
    "print('* Noise answer == A_D_2_e05 ==', A_D_2_e05)\n",
    "\n",
    "# The difference between true answer and noise answer that removing any record with age = 26 \n",
    "distortion_A_D_2_e05 = cal_difference(df_average_age_1000, A_D_2_e05)\n",
    "distortion_A_D_2_e05 = round(distortion_A_D_2_e05, 2)\n",
    "print('* The difference between true answer and noise answer == distortion_A_D_2_e05 ==', distortion_A_D_2_e05)\n",
    "\n",
    "# variance of the dataset that removing any record with age = 26\n",
    "variance_A_D_2_e05 = cal_variance(df_average_age_1000, A_D_2_e05, epsilon05)\n",
    "variance_A_D_2_e05 = round(variance_A_D_2_e05, 2)\n",
    "print('* The variance between true answer and noise answer == variance_A_D_1_e05 ==', variance_A_D_2_e05)\n",
    "print('-----------------------------------------------------------------------')\n",
    "\n",
    "\n",
    "\n",
    "# dataset size = 1000, noise answer = A(D) of the dataset that removing any record with the youngest age\n",
    "A_D_3_e05 = average_age_df_without_youngest_age + laplace_mechanism(average_age_df_without_youngest_age, df_average_age_1000, epsilon05)\n",
    "A_D_3_e05 = round(A_D_3_e05, 2)\n",
    "print('* Noise answer == A_D_3_e05 == ', A_D_3_e05)\n",
    "\n",
    "# The difference between true answer and noise answer that removing any record with the youngest age\n",
    "distortion_A_D_3_e05  = cal_difference(df_average_age_1000, A_D_3_e05)\n",
    "distortion_A_D_3_e05 = round(distortion_A_D_3_e05, 2)\n",
    "print('* The difference between true answer and noise answer == distortion_A_D_3_e05 ==', distortion_A_D_3_e05)\n",
    "\n",
    "# variance of the dataset that removing any record with the youngest age\n",
    "variance_A_D_3_e05 = cal_variance(df_average_age_1000, A_D_3_e05, epsilon05)\n",
    "variance_A_D_3_e05 = round(variance_A_D_3_e05, 2)\n",
    "print('* The variance between true answer and noise answer == variance_A_D_1_e05 ==', variance_A_D_3_e05)\n"
   ]
  },
  {
   "cell_type": "code",
   "execution_count": 139,
   "id": "6dea7a65",
   "metadata": {},
   "outputs": [
    {
     "name": "stdout",
     "output_type": "stream",
     "text": [
      "===================== dataset size = 1000, epsilon = 1 ==========================\n",
      "* Noise answer == A_D_1_e1 == 85.85\n",
      "* The difference between true answer and noise answer == distortion_A_D_1_e1 == 42.76\n",
      "* The variance between true answer and noise answer == variance_A_D_1_e1 == 3656.84\n",
      "-----------------------------------------------------------------------\n",
      "* Noise answer == A_D_2_e1 == 86.08\n",
      "* The difference between true answer and noise answer == distortion_A_D_2_e1 == 42.99\n",
      "* The variance between true answer and noise answer == variance_A_D_1_e1 == 3696.28\n",
      "-----------------------------------------------------------------------\n",
      "* Noise answer == A_D_3_e1 == 86\n",
      "* The difference between true answer and noise answer == distortion_A_D_3_e1 == 42.91\n",
      "* The variance between true answer and noise answer == variance_A_D_1_e1 == 3682.54\n",
      "-----------------------------------------------------------------------\n"
     ]
    }
   ],
   "source": [
    "print('===================== dataset size = 1000, epsilon = 1 ==========================')\n",
    "\n",
    "epsilon_1 = 1\n",
    "\n",
    "# size=1000, noise answer = A(D) of the dataset that removing a record with the oldest age\n",
    "A_D_1_e1 = average_age_df_without_a_oldest_age + laplace_mechanism(average_age_df_without_a_oldest_age, df_average_age_1000, epsilon_1)\n",
    "A_D_1_e1 = round(A_D_1_e1, 2)\n",
    "print('* Noise answer == A_D_1_e1 ==', A_D_1_e1)\n",
    "\n",
    "# The difference between true answer and noise answer that removing a record with the oldest age\n",
    "distortion_A_D_1_e1 = cal_difference(df_average_age_1000, A_D_1_e1)\n",
    "distortion_A_D_1_e1 = round(distortion_A_D_1_e1, 2)\n",
    "print('* The difference between true answer and noise answer == distortion_A_D_1_e1 ==', distortion_A_D_1_e1)\n",
    "\n",
    "# variance of the dataset that removing a record with the oldest age\n",
    "variance_A_D_1_e1 = cal_variance(df_average_age_1000, A_D_1_e1, epsilon_1)\n",
    "variance_A_D_1_e1 = round(variance_A_D_1_e1, 2)\n",
    "print('* The variance between true answer and noise answer == variance_A_D_1_e1 ==', variance_A_D_1_e1)\n",
    "print('-----------------------------------------------------------------------')\n",
    "\n",
    "\n",
    "\n",
    "# size=1000, noise answer = A(D) of the dataset that removing any record with age = 26\n",
    "A_D_2_e1 = average_age_df_without_26 + laplace_mechanism(average_age_df_without_26, df_average_age_1000, epsilon_1)\n",
    "A_D_2_e1 = round(A_D_2_e1, 2)\n",
    "print('* Noise answer == A_D_2_e1 ==', A_D_2_e1)\n",
    "\n",
    "# The difference between true answer and noise answer that removing any record with age = 26\n",
    "distortion_A_D_2_e1 = cal_difference(df_average_age_1000, A_D_2_e1)\n",
    "distortion_A_D_2_e1 = round(distortion_A_D_2_e1, 2)\n",
    "print('* The difference between true answer and noise answer == distortion_A_D_2_e1 ==', distortion_A_D_2_e1)\n",
    "\n",
    "# variance of the dataset that removing any record with age = 26\n",
    "variance_A_D_2_e1 = cal_variance(df_average_age_1000, A_D_2_e1, epsilon_1)\n",
    "variance_A_D_2_e1 = round(variance_A_D_2_e1, 2)\n",
    "print('* The variance between true answer and noise answer == variance_A_D_1_e1 ==', variance_A_D_2_e1)\n",
    "print('-----------------------------------------------------------------------')\n",
    "\n",
    "\n",
    "\n",
    "# size=1000, noise answer = A(D) of the dataset that removing any record with the youngest age\n",
    "A_D_3_e1 = average_age_df_without_youngest_age + laplace_mechanism(average_age_df_without_youngest_age, df_average_age_1000, epsilon_1)\n",
    "A_D_3_e1 = round(A_D_3_e1)\n",
    "print('* Noise answer == A_D_3_e1 ==', A_D_3_e1)\n",
    "\n",
    "# The difference between true answer and noise answer that removing any record with the youngest age\n",
    "distortion_A_D_3_e1 = cal_difference(df_average_age_1000, A_D_3_e1)\n",
    "distortion_A_D_3_e1 = round(distortion_A_D_3_e1, 2)\n",
    "print('* The difference between true answer and noise answer == distortion_A_D_3_e1 ==', distortion_A_D_3_e1)\n",
    "\n",
    "# variance of the dataset that removing any record with the youngest age\n",
    "variance_A_D_3_e1 = cal_variance(df_average_age_1000, A_D_3_e1, epsilon_1)\n",
    "variance_A_D_3_e1 = round(variance_A_D_3_e1, 2)\n",
    "print('* The variance between true answer and noise answer == variance_A_D_1_e1 ==', variance_A_D_3_e1)\n",
    "print('-----------------------------------------------------------------------')"
   ]
  },
  {
   "cell_type": "code",
   "execution_count": 142,
   "id": "8ec1b765",
   "metadata": {},
   "outputs": [
    {
     "name": "stdout",
     "output_type": "stream",
     "text": [
      "===================== dataset size = 4000, epsilon = 0.5 ==========================\n",
      "* Noise answer == A_D_1_e05_four == 86.12\n",
      "* The difference between true answer and noise answer == distortion_A_D_1_e05_four == 43.25\n",
      "* The variance between true answer and noise answer == variance_A_D_1_e05_four == 14964.5\n",
      "-----------------------------------------------------------------------\n",
      "* Noise answer == A_D_2_e05_four == 85.93\n",
      "* The difference between true answer and noise answer == distortion_A_D_2_e05_four == 43.06\n",
      "* The variance between true answer and noise answer == variance_A_D_2_e05_four == 14833.31\n",
      "-----------------------------------------------------------------------\n",
      "* Noise answer == A_D_3_e05_four == 85.58\n",
      "* The difference between true answer and noise answer == distortion_A_D_3_e05_four == 42.71\n",
      "* The variance between true answer and noise answer == variance_A_D_3_e05_four == 14593.15\n"
     ]
    }
   ],
   "source": [
    "print('===================== dataset size = 4000, epsilon = 0.5 ==========================')\n",
    "\n",
    "# dataset size = 4000, noise answer = A(D) of the dataset that removing a record with the oldest age\n",
    "# noise answer = A_D_1_e05_four \n",
    "A_D_1_e05_four = mean_age_df_without_a_oldest_age + laplace_mechanism(mean_age_df_without_a_oldest_age, df_mean_age_4000 , epsilon05)\n",
    "A_D_1_e05_four = round(A_D_1_e05_four, 2)\n",
    "print('* Noise answer == A_D_1_e05_four ==', A_D_1_e05_four)\n",
    "\n",
    "# The difference between true answer and noise answer that removing a record with the oldest age\n",
    "distortion_A_D_1_e05_four = cal_difference(df_mean_age_4000, A_D_1_e05_four)\n",
    "distortion_A_D_1_e05_four = round(distortion_A_D_1_e05_four, 2)\n",
    "print('* The difference between true answer and noise answer == distortion_A_D_1_e05_four ==', distortion_A_D_1_e05_four)\n",
    "\n",
    "# variance of the dataset that removing a record with the oldest age\n",
    "variance_A_D_1_e05_four = cal_variance(df_mean_age_4000, A_D_1_e05_four, epsilon05)\n",
    "variance_A_D_1_e05_four = round(variance_A_D_1_e05_four, 2)\n",
    "print('* The variance between true answer and noise answer == variance_A_D_1_e05_four ==', variance_A_D_1_e05_four)\n",
    "print('-----------------------------------------------------------------------')\n",
    "\n",
    "\n",
    "\n",
    "# dataset size = 4000, noise answer = A(D) of the dataset that removing any record with age = 26\n",
    "A_D_2_e05_four = mean_age_df_without_26 + laplace_mechanism(mean_age_df_without_26, df_mean_age_4000 , epsilon05)\n",
    "A_D_2_e05_four = round(A_D_2_e05_four, 2)\n",
    "print('* Noise answer == A_D_2_e05_four ==', A_D_2_e05_four)\n",
    "\n",
    "# The difference between true answer and noise answer that removing any record with age = 26\n",
    "distortion_A_D_2_e05_four = cal_difference(df_mean_age_4000, A_D_2_e05_four)\n",
    "distortion_A_D_2_e05_four = round(distortion_A_D_2_e05_four, 2)\n",
    "print('* The difference between true answer and noise answer == distortion_A_D_2_e05_four ==', distortion_A_D_2_e05_four)\n",
    "\n",
    "# variance of the dataset that removing any record with age = 26\n",
    "variance_A_D_2_e05_four = cal_variance(df_mean_age_4000, A_D_2_e05_four, epsilon05)\n",
    "variance_A_D_2_e05_four = round(variance_A_D_2_e05_four, 2)\n",
    "print('* The variance between true answer and noise answer == variance_A_D_2_e05_four ==', variance_A_D_2_e05_four)\n",
    "print('-----------------------------------------------------------------------')\n",
    "\n",
    "\n",
    "\n",
    "# dataset size = 4000, noise answer = A(D) of the dataset that removing any record with the youngest age\n",
    "A_D_3_e05_four = mean_age_df_without_youngest_age + laplace_mechanism(mean_age_df_without_youngest_age, df_mean_age_4000, epsilon05)\n",
    "A_D_3_e05_four = round(A_D_3_e05_four, 2)\n",
    "print('* Noise answer == A_D_3_e05_four ==', A_D_3_e05_four)\n",
    "\n",
    "# The difference between true answer and noise answer that removing any record with the youngest age\n",
    "distortion_A_D_3_e05_four = cal_difference(df_mean_age_4000, A_D_3_e05_four)\n",
    "distortion_A_D_3_e05_four = round(distortion_A_D_3_e05_four, 2)\n",
    "print('* The difference between true answer and noise answer == distortion_A_D_3_e05_four ==', distortion_A_D_3_e05_four)\n",
    "\n",
    "# variance of the dataset that removing any record with the youngest age\n",
    "variance_A_D_3_e05_four = cal_variance(df_mean_age_4000, A_D_3_e05_four, epsilon)\n",
    "variance_A_D_3_e05_four = round(variance_A_D_3_e05_four, 2)\n",
    "print('* The variance between true answer and noise answer == variance_A_D_3_e05_four ==', variance_A_D_3_e05_four)"
   ]
  },
  {
   "cell_type": "code",
   "execution_count": null,
   "id": "4d72c3c6",
   "metadata": {},
   "outputs": [],
   "source": []
  },
  {
   "cell_type": "code",
   "execution_count": 143,
   "id": "d6b00bf8",
   "metadata": {},
   "outputs": [
    {
     "name": "stdout",
     "output_type": "stream",
     "text": [
      "===================== dataset size = 4000, epsilon = 1 ==========================\n",
      "* Noise answer == A_D_1_e1_four == 84.86\n",
      "* The difference between true answer and noise answer == distortion_A_D_1_e05_four == 41.99\n",
      "* The variance between true answer and noise answer == variance_A_D_1_e05_four == 3526.32\n",
      "-----------------------------------------------------------------------\n",
      "* Noise answer == A_D_2_e1_four == 86.67\n",
      "* The difference between true answer and noise answer == distortion_A_D_2_e1_four == 43.8\n",
      "* The variance between true answer and noise answer == variance_A_D_2_e1_four == 3836.88\n",
      "-----------------------------------------------------------------------\n",
      "* Noise answer == A_D_3_e1_four == 86.03\n",
      "* The difference between true answer and noise answer == distortion_A_D_3_e1_four == 43.16\n",
      "* The variance between true answer and noise answer == variance_A_D_3_e1_four == 3725.57\n"
     ]
    }
   ],
   "source": [
    "print('===================== dataset size = 4000, epsilon = 1 ==========================')\n",
    "\n",
    "# dataset size = 4000, noise answer = A(D) of the dataset that removing a record with the oldest age\n",
    "# noise answer = A_D_1_e1_four \n",
    "A_D_1_e1_four = mean_age_df_without_a_oldest_age + laplace_mechanism(mean_age_df_without_a_oldest_age, df_mean_age_4000 , epsilon_1)\n",
    "A_D_1_e1_four = round(A_D_1_e1_four, 2)\n",
    "print('* Noise answer == A_D_1_e1_four ==', A_D_1_e1_four)\n",
    "\n",
    "# The difference between true answer and noise answer that removing a record with the oldest age\n",
    "distortion_A_D_1_e1_four = cal_difference(df_mean_age_4000, A_D_1_e1_four)\n",
    "distortion_A_D_1_e1_four = round(distortion_A_D_1_e1_four, 2)\n",
    "print('* The difference between true answer and noise answer == distortion_A_D_1_e05_four ==', distortion_A_D_1_e1_four)\n",
    "\n",
    "# variance of the dataset that removing a record with the oldest age\n",
    "variance_A_D_1_e1_four = cal_variance(df_mean_age_4000, A_D_1_e1_four, epsilon_1)\n",
    "variance_A_D_1_e1_four = round(variance_A_D_1_e1_four, 2)\n",
    "print('* The variance between true answer and noise answer == variance_A_D_1_e05_four ==', variance_A_D_1_e1_four)\n",
    "print('-----------------------------------------------------------------------')\n",
    "\n",
    "\n",
    "\n",
    "# dataset size = 4000, noise answer = A(D) of the dataset that removing any record with age = 26\n",
    "A_D_2_e1_four = mean_age_df_without_26 + laplace_mechanism(mean_age_df_without_26, df_mean_age_4000 , epsilon_1)\n",
    "A_D_2_e1_four = round(A_D_2_e1_four, 2)\n",
    "print('* Noise answer == A_D_2_e1_four ==', A_D_2_e1_four)\n",
    "\n",
    "# The difference between true answer and noise answer that removing any record with age = 26\n",
    "distortion_A_D_2_e1_four = cal_difference(df_mean_age_4000, A_D_2_e1_four)\n",
    "distortion_A_D_2_e1_four = round(distortion_A_D_2_e1_four, 2)\n",
    "print('* The difference between true answer and noise answer == distortion_A_D_2_e1_four ==', distortion_A_D_2_e1_four)\n",
    "\n",
    "# variance of the dataset that removing any record with age = 26\n",
    "variance_A_D_2_e1_four = cal_variance(df_mean_age_4000, A_D_2_e1_four, epsilon_1)\n",
    "variance_A_D_2_e1_four = round(variance_A_D_2_e1_four, 2)\n",
    "print('* The variance between true answer and noise answer == variance_A_D_2_e1_four ==', variance_A_D_2_e1_four)\n",
    "print('-----------------------------------------------------------------------')\n",
    "\n",
    "\n",
    "\n",
    "# dataset size = 4000, noise answer = A(D) of the dataset that removing any record with the youngest age\n",
    "A_D_3_e1_four = mean_age_df_without_youngest_age + laplace_mechanism(mean_age_df_without_youngest_age, df_mean_age_4000, epsilon_1)\n",
    "A_D_3_e1_four = round(A_D_3_e1_four, 2)\n",
    "print('* Noise answer == A_D_3_e1_four ==', A_D_3_e1_four)\n",
    "\n",
    "# The difference between true answer and noise answer that removing any record with the youngest age\n",
    "distortion_A_D_3_e1_four = cal_difference(df_mean_age_4000, A_D_3_e1_four)\n",
    "distortion_A_D_3_e1_four = round(distortion_A_D_3_e1_four, 2)\n",
    "print('* The difference between true answer and noise answer == distortion_A_D_3_e1_four ==', distortion_A_D_3_e1_four)\n",
    "\n",
    "# variance of the dataset that removing any record with the youngest age\n",
    "variance_A_D_3_e1_four = cal_variance(df_mean_age_4000, A_D_3_e1_four, epsilon_1)\n",
    "variance_A_D_3_e1_four = round(variance_A_D_3_e1_four, 2)\n",
    "print('* The variance between true answer and noise answer == variance_A_D_3_e1_four ==', variance_A_D_3_e1_four)"
   ]
  },
  {
   "cell_type": "code",
   "execution_count": 77,
   "id": "d19c93f7",
   "metadata": {},
   "outputs": [
    {
     "name": "stdout",
     "output_type": "stream",
     "text": [
      "When e = 0.5, dataset size = 1000, The distortion values are:\n",
      "[distortion_A_D_1_e05, distortion_A_D_2_e05, distortion_A_D_3_e05] = [42.109999999999985, 42.31999999999999, 43.19]\n"
     ]
    }
   ],
   "source": []
  },
  {
   "cell_type": "code",
   "execution_count": 148,
   "id": "cc9c7379",
   "metadata": {},
   "outputs": [
    {
     "name": "stdout",
     "output_type": "stream",
     "text": [
      "When e = 0.5, dataset size = 4000, The distortion values are:\n",
      "[distortion_A_D_1_e05_four, distortion_A_D_2_e05_four, distortion_A_D_3_e05_four] = [43.25, 43.06, 42.71] \n",
      "\n",
      "When e = 1, dataset size = 4000, The distortion values are:\n",
      "[distortion_A_D_1_e1_four, distortion_A_D_2_e1_four, distortion_A_D_3_e1_four] = [41.99, 43.8, 43.16] \n",
      "\n",
      "The difference between true answer and noise anser == [1.259999999999998, -0.7399999999999949, -0.44999999999999574]\n"
     ]
    }
   ],
   "source": [
    "# When e = 0.5, dataset size = 4000, The differences between true answers and noise answers are:\n",
    "arr_distortion_e05_four = [distortion_A_D_1_e05_four, distortion_A_D_2_e05_four, distortion_A_D_3_e05_four]\n",
    "print('When e = 0.5, dataset size = 4000, The distortion values are:', )\n",
    "print('[distortion_A_D_1_e05_four, distortion_A_D_2_e05_four, distortion_A_D_3_e05_four] =', arr_distortion_e05_four, '\\n')\n",
    "\n",
    "# When e = 1, dataset size = 4000, The differences between true answers and noise answers are:\n",
    "arr_distortion_e1_four = [distortion_A_D_1_e1_four, distortion_A_D_2_e1_four, distortion_A_D_3_e1_four]\n",
    "print('When e = 1, dataset size = 4000, The distortion values are:', )\n",
    "print('[distortion_A_D_1_e1_four, distortion_A_D_2_e1_four, distortion_A_D_3_e1_four] =', arr_distortion_e1_four, '\\n')\n",
    "\n",
    "# Let's check: when epsilon increases, how it influence the difference between true answer and noise anser\n",
    "diff_btw_truth_lie = [arr_distortion_e05_four[i] - arr_distortion_e1_four[i] for i in range(min(len(arr_distortion_e05_four), len(arr_distortion_e1_four)))]\n",
    "print('The difference between true answer and noise anser ==', diff_btw_truth_lie )\n",
    "\n",
    "'''\n",
    "We see the difference between distortion of e=0.5 and e=1 is not that huge. \n",
    "'''"
   ]
  },
  {
   "cell_type": "code",
   "execution_count": 149,
   "id": "2e876ad9",
   "metadata": {},
   "outputs": [
    {
     "name": "stdout",
     "output_type": "stream",
     "text": [
      "When e = 0.5, dataset size = 4000, The variance values are:\n",
      "[variance_A_D_1_e05_four, variance_A_D_2_e05_four, variance_A_D_3_e05_four] = [14964.5, 14833.31, 14593.15] \n",
      "\n",
      "When e = 1, dataset size = 4000, The variance values are:\n",
      "[variance_A_D_1_e1_four, variance_A_D_2_e1_four, variance_A_D_3_e1_four] = [3526.32, 3836.88, 3725.57] \n",
      "\n"
     ]
    }
   ],
   "source": [
    "# When e = 0.5, dataset size = 4000, The variance values are:\n",
    "print('When e = 0.5, dataset size = 4000, The variance values are:', )\n",
    "varr_e05_four = [variance_A_D_1_e05_four, variance_A_D_2_e05_four, variance_A_D_3_e05_four]\n",
    "print('[variance_A_D_1_e05_four, variance_A_D_2_e05_four, variance_A_D_3_e05_four] =', varr_e05_four, '\\n')\n",
    "\n",
    "# When e = 1, dataset size = 4000, The variance values are:\n",
    "print('When e = 1, dataset size = 4000, The variance values are:', )\n",
    "varr_e1_four = [variance_A_D_1_e1_four, variance_A_D_2_e1_four, variance_A_D_3_e1_four]\n",
    "print('[variance_A_D_1_e1_four, variance_A_D_2_e1_four, variance_A_D_3_e1_four] =', varr_e1_four, '\\n')\n"
   ]
  },
  {
   "cell_type": "code",
   "execution_count": 150,
   "id": "87bed6e4",
   "metadata": {},
   "outputs": [
    {
     "data": {
      "image/png": "[encoded data removed]",
      "text/plain": [
       "<Figure size 432x288 with 1 Axes>"
      ]
     },
     "metadata": {
      "needs_background": "light"
     },
     "output_type": "display_data"
    }
   ],
   "source": [
    "plt.plot(varr_e05_four, label='variance with e = 0.5 ')\n",
    "plt.plot(varr_e1_four, label='variance with e = 1')\n",
    "plt.title('Data Set Size = 4000')\n",
    "plt.legend()\n",
    "plt.show()"
   ]
  },
  {
   "cell_type": "code",
   "execution_count": 151,
   "id": "0ac596bc",
   "metadata": {},
   "outputs": [
    {
     "name": "stdout",
     "output_type": "stream",
     "text": [
      "When epsilon increases, the varriance decreases, it means the error between true answer and noisy answer decreases.Noise answer with e=1 has less noise, it has more utility.\n"
     ]
    }
   ],
   "source": [
    "# conclusion based on Test code\n",
    "# Error: E(true answer – noisy answer)2 = varriance\n",
    "print('When epsilon increases, the varriance decreases, it means the error between true answer and noisy answer decreases.Noise answer with e=1 has less noise, it has more utility.')"
   ]
  },
  {
   "cell_type": "code",
   "execution_count": null,
   "id": "64e939ef",
   "metadata": {},
   "outputs": [],
   "source": []
  },
  {
   "cell_type": "code",
   "execution_count": null,
   "id": "aee14f3e",
   "metadata": {},
   "outputs": [],
   "source": []
  }
 ],
 "metadata": {
  "kernelspec": {
   "display_name": "Python 3 (ipykernel)",
   "language": "python",
   "name": "python3"
  },
  "language_info": {
   "codemirror_mode": {
    "name": "ipython",
    "version": 3
   },
   "file_extension": ".py",
   "mimetype": "text/x-python",
   "name": "python",
   "nbconvert_exporter": "python",
   "pygments_lexer": "ipython3",
   "version": "3.8.12"
  }
 },
 "nbformat": 4,
 "nbformat_minor": 5
}
