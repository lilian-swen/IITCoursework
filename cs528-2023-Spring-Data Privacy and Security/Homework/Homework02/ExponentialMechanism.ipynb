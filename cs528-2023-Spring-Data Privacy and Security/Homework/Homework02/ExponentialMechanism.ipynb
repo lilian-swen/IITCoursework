{
 "cells": [
  {
   "cell_type": "code",
   "execution_count": 78,
   "id": "f02efd0f",
   "metadata": {},
   "outputs": [
    {
     "data": {
      "text/plain": [
       "'\\nYuanyuan Sun (A20487775)\\nHomework 2\\nSpring 2023\\n'"
      ]
     },
     "execution_count": 78,
     "metadata": {},
     "output_type": "execute_result"
    }
   ],
   "source": [
    "'''\n",
    "Homework 2\n",
    "Spring 2023\n",
    "'''"
   ]
  },
  {
   "cell_type": "code",
   "execution_count": 79,
   "id": "c678cf72",
   "metadata": {},
   "outputs": [
    {
     "data": {
      "text/plain": [
       "32561"
      ]
     },
     "execution_count": 79,
     "metadata": {},
     "output_type": "execute_result"
    }
   ],
   "source": [
    "import pandas as pd\n",
    "import numpy as np\n",
    "import matplotlib.pyplot as plt\n",
    "\n",
    "adult_data_url = 'https://archive.ics.uci.edu/ml/machine-learning-databases/adult/adult.data'\n",
    "df = pd.read_csv(adult_data_url, header=None)\n",
    "\n",
    "column_names = ['age', 'workclass', 'fnlwgt', 'education', 'education_num', 'marital_status', \n",
    "                'occupation', 'relationship', 'race', 'sex', 'capital_gain', 'capital_loss', \n",
    "                'hours_per_week', 'native_country', 'income']\n",
    "\n",
    "df.columns = column_names\n",
    "#df.head()\n",
    "total = len(df)\n",
    "total"
   ]
  },
  {
   "cell_type": "code",
   "execution_count": 80,
   "id": "a6a6e79c",
   "metadata": {},
   "outputs": [
    {
     "data": {
      "text/plain": [
       " HS-grad         10501\n",
       " Some-college     7291\n",
       " Bachelors        5355\n",
       " Masters          1723\n",
       " Assoc-voc        1382\n",
       " 11th             1175\n",
       " Assoc-acdm       1067\n",
       " 10th              933\n",
       " 7th-8th           646\n",
       " Prof-school       576\n",
       " 9th               514\n",
       " 12th              433\n",
       " Doctorate         413\n",
       " 5th-6th           333\n",
       " 1st-4th           168\n",
       " Preschool          51\n",
       "Name: education, dtype: int64"
      ]
     },
     "execution_count": 80,
     "metadata": {},
     "output_type": "execute_result"
    }
   ],
   "source": [
    "# Check the frequency on education\n",
    "edu_fre = df['education'].value_counts()\n",
    "edu_fre"
   ]
  },
  {
   "cell_type": "code",
   "execution_count": 81,
   "id": "3f0887f8",
   "metadata": {},
   "outputs": [
    {
     "name": "stdout",
     "output_type": "stream",
     "text": [
      "Length of the original data set with 1000 results, df00_1k size == 1000\n",
      "Length of the original data set with 1000 results, df00_4k size == 4000\n"
     ]
    }
   ],
   "source": [
    "# Generate required results for the query over the original dataset.\n",
    "\n",
    "'''\n",
    "================================== 1 ===============================================\n",
    "note: the description does not mention how we can generate the required results. There are at least two ways:\n",
    "way 1. get the required results by head() 1-1000\n",
    "way 2. get the required results by sample() 1000 \n",
    "Here, I choose to generate data by way2\n",
    "'''\n",
    "\n",
    "# Generate 1,000 results for the query(the most frequent “Education” result) over the original dataset\n",
    "df00_1k = df.sample(n=1000, random_state=40)\n",
    "print('Length of the original data set with 1000 results, df00_1k size ==', len(df00_1k))\n",
    "\n",
    "# Generate 4,000 results for the query(the most frequent “Education” result) over the original dataset\n",
    "df00_4k = df.sample(n=4000, random_state=40)\n",
    "print('Length of the original data set with 1000 results, df00_4k size ==', len(df00_4k))"
   ]
  },
  {
   "cell_type": "code",
   "execution_count": 82,
   "id": "1f1e46e2",
   "metadata": {},
   "outputs": [
    {
     "name": "stdout",
     "output_type": "stream",
     "text": [
      "* The value corresponding to most frequency in the original dataset is  HS-grad\n",
      "* The amount corresponding to most frequency in the original dataset is 10501\n",
      "* The first index corresponding to the most most frequent “Education” level ==  2\n",
      "* Check the length of the original data frame: the length should be 32561 == 32561\n",
      "* After remove a record with the most frequent “Education”, check the length of df01: the length should be 32560 == 32560\n",
      "* Now, I get the data set that removing a record with the most frequent “Education which is df01”\n"
     ]
    }
   ],
   "source": [
    "'''\n",
    "Here are 3 other data sets code. \n",
    "Note: the description does not mention whether or not we do data processing based on original data set, \n",
    "by default, I do data processing based on original data set\n",
    "'''\n",
    "\n",
    "'''\n",
    "******************************** Data Proccessing ********************************\n",
    "df01: removing a record with the most frequent “Education”\n",
    "\n",
    "The condition means we need to remove one record with the most frequent “Education”. Since we clearly know that the most \n",
    "frequent “Education” is with many records, then we can just pick one record with the most frequent “Education”. \n",
    "\n",
    "Simply, I get the first index corresponding to the most most frequent “Education” level, then remove a record with the most \n",
    "frequent “Education” as the question description requires.\n",
    "'''\n",
    "\n",
    "# ************** df01: Removing a record with the most frequent “Education”  ************\n",
    "most_fre_level = df['education'].value_counts().idxmax()\n",
    "most_fre_num = df['education'].value_counts().max()\n",
    "print('* The value corresponding to most frequency in the original dataset is', most_fre_level)\n",
    "print('* The amount corresponding to most frequency in the original dataset is', most_fre_num)\n",
    "\n",
    "# get the first index corresponding to the most frequent education level\n",
    "first_index = df.index[df['education'] == most_fre_level].min()\n",
    "first_index\n",
    "print('* The first index corresponding to the most most frequent “Education” level == ', first_index)\n",
    "print('* Check the length of the original data frame: the length should be 32561 ==', len(df))\n",
    "\n",
    "# remove a record with the most frequent “Education”\n",
    "df01 = df.drop(index = first_index)\n",
    "print('* After remove a record with the most frequent “Education”, check the length of df01: the length should be 32560 ==', len(df01))\n",
    "# Now, I get the data set that removing a record with the most frequent “Education”\n",
    "print('* Now, I get the data set that removing a record with the most frequent “Education which is df01”')"
   ]
  },
  {
   "cell_type": "code",
   "execution_count": 83,
   "id": "a887e586",
   "metadata": {},
   "outputs": [
    {
     "name": "stdout",
     "output_type": "stream",
     "text": [
      "* The second most frequent Education level in the original dataset is  Some-college\n",
      "* Now, I get the data set that removing any record with the second most frequent “Education” which is df02”\n"
     ]
    }
   ],
   "source": [
    "\n",
    "\n",
    "# ************** df02: removing any record with the second most frequent “Education”  ************\n",
    "\n",
    "# get the levol of the second most frequent “Education” in the original data set\n",
    "sec_most_fre_level =  df['education'].value_counts().index[1]\n",
    "print('* The second most frequent Education level in the original dataset is', sec_most_fre_level)\n",
    "\n",
    "df02 = df[df['education'] != sec_most_fre_level]\n",
    "print('* Now, I get the data set that removing any record with the second most frequent “Education” which is df02”')"
   ]
  },
  {
   "cell_type": "code",
   "execution_count": 84,
   "id": "a476f1df",
   "metadata": {},
   "outputs": [
    {
     "name": "stdout",
     "output_type": "stream",
     "text": [
      "* The least frequent education level is  Preschool\n",
      "* Now, I get the data set that removing any record with the least frequent “Education” which is df03”\n"
     ]
    }
   ],
   "source": [
    " \n",
    "\n",
    "# ************** df03: removing any record with the least frequent “Education”  ************\n",
    "\n",
    "# find the least frequent education level\n",
    "least_frequent_level = df['education'].value_counts().index[-1]\n",
    "print('* The least frequent education level is', least_frequent_level)\n",
    "\n",
    "df03 = df[df['education'] != least_frequent_level]\n",
    "print('* Now, I get the data set that removing any record with the least frequent “Education” which is df03”')"
   ]
  },
  {
   "cell_type": "code",
   "execution_count": null,
   "id": "3a772067",
   "metadata": {},
   "outputs": [],
   "source": []
  },
  {
   "cell_type": "code",
   "execution_count": 85,
   "id": "bd0e07fe",
   "metadata": {},
   "outputs": [
    {
     "name": "stdout",
     "output_type": "stream",
     "text": [
      "Length of df01 == 1000\n",
      "Length of df02 == 1000\n",
      "Length of df03 == 1000\n"
     ]
    }
   ],
   "source": [
    "# generate 1,000 results for the query over each of three datasets\n",
    "df01_1k = df01.sample(n=1000, random_state=40)\n",
    "print('Length of df01 ==', len(df01_1k))\n",
    "\n",
    "df02_1k = df02.sample(n=1000, random_state=40)\n",
    "print('Length of df02 ==', len(df02_1k))\n",
    "\n",
    "df03_1k = df03.sample(n=1000, random_state=40)\n",
    "print('Length of df03 ==', len(df03_1k))"
   ]
  },
  {
   "cell_type": "code",
   "execution_count": 86,
   "id": "826591c1",
   "metadata": {},
   "outputs": [
    {
     "name": "stdout",
     "output_type": "stream",
     "text": [
      "Length of df01 == 4000\n",
      "Length of df02 == 4000\n",
      "Length of df03 == 4000\n"
     ]
    }
   ],
   "source": [
    "# generate 1,000 results for the query over each of three datasets\n",
    "df01_4k = df01.sample(n=4000, random_state=40)\n",
    "print('Length of df01 ==', len(df01_4k))\n",
    "\n",
    "df02_4k = df02.sample(n=4000, random_state=40)\n",
    "print('Length of df02 ==', len(df02_4k))\n",
    "\n",
    "df03_4k = df03.sample(n=4000, random_state=40)\n",
    "print('Length of df03 ==', len(df03_4k))"
   ]
  },
  {
   "cell_type": "code",
   "execution_count": 87,
   "id": "aa8fc26e",
   "metadata": {},
   "outputs": [
    {
     "name": "stdout",
     "output_type": "stream",
     "text": [
      "Check the most frequency levels and frequency when data size is 1000k which are true answers \n",
      "\n",
      "* With 1000 size, get the most frequent “Education” result on the 4 data sets:  [' HS-grad', ' HS-grad', ' HS-grad', ' HS-grad']\n",
      "* With 1000 size, get the frequency of most frequent “Education” result on the 4 data sets:  [315, 362, 427, 323] \n",
      "\n",
      "Check the most frequency levels and frequency when data size is 1000k which are true answers \n",
      "\n",
      "* With 4000 size, get the most frequent “Education” result on the 4 data sets:  [' HS-grad', ' HS-grad', ' HS-grad', ' HS-grad']\n",
      "* With 4000 size, get the frequency of most frequent “Education” result on the 4 data sets:  [1279, 1307, 1735, 1274]\n"
     ]
    }
   ],
   "source": [
    "''' Query the most frequent “Education” result in the four data sets on 4 datasets with different data size'''\n",
    "\n",
    "# Get the most frequent “Education” result on the 4 data sets which each data size is 1000\n",
    "print('Check the most frequency levels and frequency when data size is 1000k which are true answers', '\\n')\n",
    "most_fre_level_df00_1k = df00_1k['education'].value_counts().idxmax()\n",
    "most_fre_level_df01_1k = df01_1k['education'].value_counts().idxmax()\n",
    "most_fre_level_df02_1k = df02_1k['education'].value_counts().idxmax()\n",
    "most_fre_level_df03_1k = df03_1k['education'].value_counts().idxmax()\n",
    "most_fre_levels_list_1k = [most_fre_level_df00_1k, most_fre_level_df01_1k, most_fre_level_df02_1k, most_fre_level_df03_1k]\n",
    "print('* With 1000 size, get the most frequent “Education” result on the 4 data sets: ', most_fre_levels_list_1k)\n",
    "\n",
    "most_fre_num_df00_1k = df00_1k['education'].value_counts().max()\n",
    "most_fre_num_df01_1k = df01_1k['education'].value_counts().max()\n",
    "most_fre_num_df02_1k = df02_1k['education'].value_counts().max()\n",
    "most_fre_num_df03_1k = df03_1k['education'].value_counts().max()\n",
    "most_fre_num_list_1k = [most_fre_num_df00_1k, most_fre_num_df01_1k, most_fre_num_df02_1k, most_fre_num_df03_1k]\n",
    "print('* With 1000 size, get the frequency of most frequent “Education” result on the 4 data sets: ', most_fre_num_list_1k, '\\n')\n",
    "\n",
    "\n",
    "# Get the most frequent “Education” result on the 4 data sets which each data size is 4000\n",
    "print('Check the most frequency levels and frequency when data size is 1000k which are true answers', '\\n')\n",
    "most_fre_level_df00_4k = df00_4k['education'].value_counts().idxmax()\n",
    "most_fre_level_df01_4k = df01_4k['education'].value_counts().idxmax()\n",
    "most_fre_level_df02_4k = df02_4k['education'].value_counts().idxmax()\n",
    "most_fre_level_df03_4k = df03_4k['education'].value_counts().idxmax()\n",
    "most_fre_levels_list_4k = [most_fre_level_df00_4k, most_fre_level_df01_4k, most_fre_level_df02_4k, most_fre_level_df03_4k]\n",
    "print('* With 4000 size, get the most frequent “Education” result on the 4 data sets: ', most_fre_levels_list_4k)\n",
    "\n",
    "most_fre_num_df00_4k = df00_4k['education'].value_counts().max()\n",
    "most_fre_num_df01_4k = df01_4k['education'].value_counts().max()\n",
    "most_fre_num_df02_4k = df02_4k['education'].value_counts().max()\n",
    "most_fre_num_df03_4k = df03_4k['education'].value_counts().max()\n",
    "most_fre_num_list_4k = [most_fre_num_df00_4k, most_fre_num_df01_4k, most_fre_num_df02_4k, most_fre_num_df03_4k]\n",
    "print('* With 4000 size, get the frequency of most frequent “Education” result on the 4 data sets: ', most_fre_num_list_4k)"
   ]
  },
  {
   "cell_type": "code",
   "execution_count": null,
   "id": "4cd2842b",
   "metadata": {},
   "outputs": [],
   "source": []
  },
  {
   "cell_type": "code",
   "execution_count": 88,
   "id": "f496cb9a",
   "metadata": {},
   "outputs": [
    {
     "name": "stdout",
     "output_type": "stream",
     "text": [
      "* Length of df01_1k == 1000 \n",
      "\n",
      "* Options of df01_1k: [' HS-grad' ' Assoc-acdm' ' Some-college' ' Bachelors' ' Masters'\n",
      " ' Doctorate' ' Assoc-voc' ' 7th-8th' ' 12th' ' 11th' ' Prof-school'\n",
      " ' 5th-6th' ' 9th' ' 10th' ' Preschool' ' 1st-4th']\n",
      "------------------------------------------------\n",
      "* Length of df02_1k == 1000 \n",
      "\n",
      "* Options of df02_1k: [' Bachelors' ' HS-grad' ' 7th-8th' ' 11th' ' 10th' ' Assoc-voc'\n",
      " ' 5th-6th' ' Prof-school' ' Masters' ' Doctorate' ' 12th' ' Assoc-acdm'\n",
      " ' 9th' ' 1st-4th' ' Preschool']\n",
      "------------------------------------------------\n",
      "* Length of df03_1k == 1000 \n",
      "\n",
      "* Options of df03_1k: [' HS-grad' ' Bachelors' ' Some-college' ' 11th' ' Assoc-voc' ' 5th-6th'\n",
      " ' Prof-school' ' Assoc-acdm' ' Doctorate' ' 10th' ' 9th' ' Masters'\n",
      " ' 12th' ' 7th-8th' ' 1st-4th']\n",
      "------------------------------------------------\n"
     ]
    }
   ],
   "source": [
    "# Get options in each data set\n",
    "options_df01_1k = df01_1k['education'].unique()\n",
    "print('* Length of df01_1k ==', len(df01_1k), '\\n')\n",
    "print('* Options of df01_1k:', options_df01_1k)\n",
    "print('------------------------------------------------')\n",
    "\n",
    "options_df02_1k = df02_1k['education'].unique()\n",
    "print('* Length of df02_1k ==', len(df02_1k), '\\n')\n",
    "print('* Options of df02_1k:', options_df02_1k)\n",
    "print('------------------------------------------------')\n",
    "\n",
    "options_df03_1k = df03_1k['education'].unique()\n",
    "print('* Length of df03_1k ==', len(df03_1k), '\\n')\n",
    "print('* Options of df03_1k:', options_df03_1k)\n",
    "print('------------------------------------------------')\n"
   ]
  },
  {
   "cell_type": "code",
   "execution_count": 89,
   "id": "85b777ba",
   "metadata": {},
   "outputs": [
    {
     "name": "stdout",
     "output_type": "stream",
     "text": [
      "* Length of df01_4k == 4000 \n",
      "\n",
      "* Options of df01_4k: [' HS-grad' ' Assoc-acdm' ' Some-college' ' Bachelors' ' Masters'\n",
      " ' Doctorate' ' Assoc-voc' ' 7th-8th' ' 12th' ' 11th' ' Prof-school'\n",
      " ' 5th-6th' ' 9th' ' 10th' ' Preschool' ' 1st-4th']\n",
      "------------------------------------------------\n",
      "* Length of df02_4k == 4000 \n",
      "\n",
      "* Options of df02_4k: [' Bachelors' ' HS-grad' ' 7th-8th' ' 11th' ' 10th' ' Assoc-voc'\n",
      " ' 5th-6th' ' Prof-school' ' Masters' ' Doctorate' ' 12th' ' Assoc-acdm'\n",
      " ' 9th' ' 1st-4th' ' Preschool']\n",
      "------------------------------------------------\n",
      "* Length of df03_4k == 4000 \n",
      "\n",
      "* Options of df03_4k: [' HS-grad' ' Bachelors' ' Some-college' ' 11th' ' Assoc-voc' ' 5th-6th'\n",
      " ' Prof-school' ' Assoc-acdm' ' Doctorate' ' 10th' ' 9th' ' Masters'\n",
      " ' 12th' ' 7th-8th' ' 1st-4th']\n",
      "------------------------------------------------\n"
     ]
    }
   ],
   "source": [
    "# Get options in each data set\n",
    "options_df01_4k = df01_4k['education'].unique()\n",
    "print('* Length of df01_4k ==', len(df01_4k), '\\n')\n",
    "print('* Options of df01_4k:', options_df01_4k)\n",
    "print('------------------------------------------------')\n",
    "\n",
    "options_df02_4k = df02_4k['education'].unique()\n",
    "print('* Length of df02_4k ==', len(df02_4k), '\\n')\n",
    "print('* Options of df02_4k:', options_df02_4k)\n",
    "print('------------------------------------------------')\n",
    "\n",
    "options_df03_4k = df03_4k['education'].unique()\n",
    "print('* Length of df03_4k ==', len(df03_4k), '\\n')\n",
    "print('* Options of df03_4k:', options_df03_4k)\n",
    "print('------------------------------------------------')"
   ]
  },
  {
   "cell_type": "code",
   "execution_count": 90,
   "id": "311162d8",
   "metadata": {},
   "outputs": [],
   "source": [
    "'''\n",
    "Reference: https://programming-dp.com/ch9.html\n",
    "\n",
    "The exponential mechanism, which allows selecting the “best” element from a set while preserving differential privacy. \n",
    "The analyst defines which element is the “best” by specifying a scoring function that outputs a score for each element \n",
    "in the set, and also defines the set of things to pick from.\n",
    "\n",
    "The mechanism provides differential privacy by approximately maximizing the score of the element it returns - \n",
    "in other words, to satisfy differential privacy, the exponential mechanism sometimes returns an element from \n",
    "the set which does not have the highest score.\n",
    "'''\n",
    "\n",
    "def score_1k(data, most_freq_level):\n",
    "    '''\n",
    "        data: values of a level, here means: values of df['education']\n",
    "        option: item of data    \n",
    "    '''\n",
    "    return data.value_counts()[most_freq_level]/1000\n",
    "\n",
    "def score_4k(data, most_freq_level):\n",
    "    '''\n",
    "        data: values of a level, here means: values of df['education']\n",
    "        option: item of data    \n",
    "    '''\n",
    "    return data.value_counts()[most_freq_level]/4000\n",
    "\n"
   ]
  },
  {
   "cell_type": "code",
   "execution_count": 91,
   "id": "88aa256b",
   "metadata": {},
   "outputs": [
    {
     "name": "stdout",
     "output_type": "stream",
     "text": [
      "================== Check the score on 4 data sets with different data size (no noise added) ===============\n",
      "* With size 1000, get the score of most frequen level of each data sets [' HS-grad', ' HS-grad', ' HS-grad', ' HS-grad'] == [0.315, 0.362, 0.427, 0.323] \n",
      "\n",
      "* With size 4000, get the score of most frequen level of each data sets [' HS-grad', ' HS-grad', ' HS-grad', ' HS-grad'] == [0.31975, 0.32675, 0.43375, 0.3185]\n"
     ]
    }
   ],
   "source": [
    "print('================== Check the score on 4 data sets with different data size (no noise added) ===============')\n",
    "# ****** score the most frequent level on each data set with size 1000 ****** \n",
    "score_df00_1k = score_1k(df00_1k['education'], most_fre_level_df00_1k)\n",
    "score_df01_1k = score_1k(df01_1k['education'], most_fre_level_df01_1k)\n",
    "score_df02_1k = score_1k(df02_1k['education'], most_fre_level_df02_1k)\n",
    "score_df03_1k = score_1k(df03_1k['education'], most_fre_level_df03_1k)\n",
    "# Get the score of most frequen level of each data sets with size 1000\n",
    "scores_list_4datasets = [score_df00_1k, score_df01_1k, score_df02_1k, score_df03_1k]\n",
    "print('* With size 1000, get the score of most frequen level of each data sets', most_fre_levels_list_1k, '==', scores_list_4datasets, '\\n')\n",
    "\n",
    "# ****** score the most frequent level on each data set with size 4000 ****** \n",
    "score_df00_4k = score_4k(df00_4k['education'], most_fre_level_df00_4k)\n",
    "score_df01_4k = score_4k(df01_4k['education'], most_fre_level_df01_4k)\n",
    "score_df02_4k = score_4k(df02_4k['education'], most_fre_level_df02_4k)\n",
    "score_df03_4k = score_4k(df03_4k['education'], most_fre_level_df03_4k)\n",
    "# Get the score of most frequen level of each data sets with size 4000\n",
    "scores_list_4datasets = [score_df00_4k, score_df01_4k, score_df02_4k, score_df03_4k]\n",
    "print('* With size 4000, get the score of most frequen level of each data sets', most_fre_levels_list_4k, '==', scores_list_4datasets)"
   ]
  },
  {
   "cell_type": "code",
   "execution_count": 92,
   "id": "2c8d9ca4",
   "metadata": {},
   "outputs": [
    {
     "data": {
      "text/plain": [
       "0.362"
      ]
     },
     "execution_count": 92,
     "metadata": {},
     "output_type": "execute_result"
    }
   ],
   "source": [
    "# Test code\n",
    "score_df01_1k"
   ]
  },
  {
   "cell_type": "code",
   "execution_count": 93,
   "id": "31a3d352",
   "metadata": {},
   "outputs": [
    {
     "data": {
      "text/plain": [
       "<function __main__.score_1k(data, most_freq_level)>"
      ]
     },
     "execution_count": 93,
     "metadata": {},
     "output_type": "execute_result"
    }
   ],
   "source": [
    "# Test code\n",
    "score_1k"
   ]
  },
  {
   "cell_type": "code",
   "execution_count": 94,
   "id": "01b13fcd",
   "metadata": {},
   "outputs": [],
   "source": [
    "def exponential(x, R, u, new_most_fre_num, old_most_fre_num, epsilon):\n",
    "    '''\n",
    "    x: a value representing the sensitive attribute being released (in this case, it appears to be the 'education' column of a dataset called 'adult')\n",
    "    R: a list of potential values that x can be replaced with in the released data (the 'options'/levels variable)\n",
    "    u: a scoring function that takes in x and one of the elements in R and returns a score for how well that replacement value preserves the privacy of the original data\n",
    "    epsilon: a parameter that controls the privacy guarantee provided by the mechanism (a larger value of epsilon provides less privacy)\n",
    "    '''\n",
    "    sensitivity = abs(new_most_fre_num - old_most_fre_num)\n",
    "    # Calculate the score for each element of R\n",
    "    scores = [u(x, r) for r in R]\n",
    "    \n",
    "    # Calculate the probability for each element, based on its score\n",
    "    probabilities = [np.exp(epsilon * score / (2 * sensitivity)) for score in scores]\n",
    "    \n",
    "    # Normalize the probabilties so they sum to 1\n",
    "    probabilities = probabilities / np.linalg.norm(probabilities, ord=1)\n",
    "\n",
    "    # Choose an element from R based on the probabilities\n",
    "    return np.random.choice(R, 1, p=probabilities)[0]"
   ]
  },
  {
   "cell_type": "code",
   "execution_count": 95,
   "id": "109761c8",
   "metadata": {},
   "outputs": [
    {
     "name": "stdout",
     "output_type": "stream",
     "text": [
      "========== Date size = 1000, the noise answer we get by applying Exponential Mechanism ============ \n",
      "\n",
      "When epsilon = 0.5, data size = 1000, The noise answer of 3 data sets are: [' 12th', ' 10th', ' 7th-8th'] \n",
      "\n",
      "When epsilon = 1, data size = 1000, The noise answer of 3 data sets are: [' 11th', ' Doctorate', ' Assoc-voc'] \n",
      "\n",
      "========== Date size = 4000, the noise answer we get by applying Exponential Mechanism ============ \n",
      "\n",
      "When epsilon = 0.5, data size = 1000, The noise answer of 3 data sets are: [' Some-college', ' Masters', ' Doctorate'] \n",
      "\n",
      "When epsilon = 1, data size = 1000, The noise answer of 3 data sets are: [' 5th-6th', ' HS-grad', ' Doctorate'] \n",
      "\n"
     ]
    }
   ],
   "source": [
    "epsilon05 = 0.5\n",
    "epsilon_1 = 1\n",
    "print('========== Date size = 1000, the noise answer we get by applying Exponential Mechanism ============', '\\n')\n",
    "noise_answer_df01_1k_e05 = exponential(df01_1k['education'], options_df01_1k, score_1k, most_fre_num_df01_1k, most_fre_num_df00_1k, epsilon05)\n",
    "noise_answer_df02_1k_e05 = exponential(df02_1k['education'], options_df02_1k, score_1k, most_fre_num_df02_1k, most_fre_num_df00_1k, epsilon05)\n",
    "noise_answer_df03_1k_e05 = exponential(df03_1k['education'], options_df03_1k, score_1k, most_fre_num_df03_1k, most_fre_num_df00_1k, epsilon05)\n",
    "noise_answer_list_df_1k_e05 = [noise_answer_df01_1k_e05, noise_answer_df02_1k_e05, noise_answer_df03_1k_e05]\n",
    "print('When epsilon = 0.5, data size = 1000, The noise answer of 3 data sets are:', noise_answer_list_df_1k_e05, '\\n')\n",
    "\n",
    "\n",
    "noise_answer_df01_1k_e1 = exponential(df01_1k['education'], options_df01_1k, score_1k, most_fre_num_df01_1k, most_fre_num_df00_1k, epsilon_1)\n",
    "noise_answer_df02_1k_e1 = exponential(df02_1k['education'], options_df02_1k, score_1k, most_fre_num_df02_1k, most_fre_num_df00_1k, epsilon_1)\n",
    "noise_answer_df03_1k_e1 = exponential(df03_1k['education'], options_df03_1k, score_1k, most_fre_num_df03_1k, most_fre_num_df00_1k, epsilon_1)\n",
    "noise_answer_list_df_1k_e1 = [noise_answer_df01_1k_e1, noise_answer_df02_1k_e1, noise_answer_df03_1k_e1]\n",
    "print('When epsilon = 1, data size = 1000, The noise answer of 3 data sets are:', noise_answer_list_df_1k_e1, '\\n')\n",
    "\n",
    "\n",
    "\n",
    "\n",
    "print('========== Date size = 4000, the noise answer we get by applying Exponential Mechanism ============', '\\n')\n",
    "noise_answer_df01_4k_e05 = exponential(df01_4k['education'], options_df01_4k, score_4k, most_fre_num_df01_4k, most_fre_num_df00_4k, epsilon05)\n",
    "noise_answer_df02_4k_e05 = exponential(df02_4k['education'], options_df02_4k, score_4k, most_fre_num_df02_4k, most_fre_num_df00_4k, epsilon05)\n",
    "noise_answer_df03_4k_e05 = exponential(df03_4k['education'], options_df03_4k, score_4k, most_fre_num_df03_4k, most_fre_num_df00_4k, epsilon05)\n",
    "noise_answer_list_df_4k_e05 = [noise_answer_df01_4k_e05, noise_answer_df02_4k_e05, noise_answer_df03_4k_e05]\n",
    "print('When epsilon = 0.5, data size = 1000, The noise answer of 3 data sets are:', noise_answer_list_df_4k_e05, '\\n')\n",
    "\n",
    "\n",
    "noise_answer_df01_4k_e1 = exponential(df01_4k['education'], options_df01_4k, score_4k, most_fre_num_df01_4k, most_fre_num_df00_4k, epsilon_1)\n",
    "noise_answer_df02_4k_e1 = exponential(df02_4k['education'], options_df02_4k, score_4k, most_fre_num_df02_4k, most_fre_num_df00_4k, epsilon_1)\n",
    "noise_answer_df03_4k_e1 = exponential(df03_4k['education'], options_df03_4k, score_4k, most_fre_num_df03_4k, most_fre_num_df00_4k, epsilon_1)\n",
    "noise_answer_list_df_4k_e1 = [noise_answer_df01_4k_e1, noise_answer_df02_4k_e1, noise_answer_df03_4k_e1]\n",
    "print('When epsilon = 1, data size = 1000, The noise answer of 3 data sets are:', noise_answer_list_df_4k_e1, '\\n')"
   ]
  },
  {
   "cell_type": "code",
   "execution_count": 96,
   "id": "ee2e1ca0",
   "metadata": {},
   "outputs": [
    {
     "name": "stdout",
     "output_type": "stream",
     "text": [
      "============ Data size = 1000, e = 0.5 ==============\n",
      "In df01_1k, the most frequency level with noise is:  Some-college\n",
      "In df01_1k, the most frequency with noise is 73 \n",
      "\n",
      "In df02_1k, the most frequency level with noise is:  10th\n",
      "In df02_1k, the most frequency with noise is 75 \n",
      "\n",
      "In df03_1k, the most frequency level with noise is:  7th-8th\n",
      "In df03_1k, the most frequency with noise is 84 \n",
      "\n",
      "============ Data size = 1000, e = 1 ==============\n",
      "In df01_1k, the most frequency level with noise is:  Prof-school\n",
      "In df01_1k, the most frequency with noise is 91 \n",
      "\n",
      "In df02_1k, the most frequency level with noise is:  1st-4th\n",
      "In df02_1k, the most frequency with noise is 79 \n",
      "\n",
      "In df03_1k, the most frequency level with noise is:  1st-4th\n",
      "In df03_1k, the most frequency with noise is 76 \n",
      "\n"
     ]
    }
   ],
   "source": [
    "print(\"============ Data size = 1000, e = 0.5 ==============\")\n",
    "\n",
    "r_df01_1k_e05 = [exponential(df01_1k['education'], options_df01_1k, score_1k, \n",
    "             most_fre_num_df01_1k, most_fre_num_df00_1k, epsilon05) for i in range(data_size)]\n",
    "r_df01_1k_e05_counts = pd.Series(r_df01_1k_e05).value_counts()\n",
    "#print('* noise answers in df01_1k ==', r_df01_1k_e05_counts, '\\n')\n",
    "most_fre_level_noise_df01_1k_e05 = r_df01_1k_e05_counts.idxmax()\n",
    "print(\"In df01_1k, the most frequency level with noise is:\", most_fre_level_noise_df01_1k_e05)\n",
    "most_fre_noise_df01_1k_e05 = r_df01_1k_e05_counts.max()\n",
    "print(\"In df01_1k, the most frequency with noise is\", most_fre_noise_df01_1k_e05, '\\n')\n",
    "\n",
    "r_df02_1k_e05 = [exponential(df02_1k['education'], options_df02_1k, score_1k, \n",
    "             most_fre_num_df02_1k, most_fre_num_df00_1k, epsilon05) for i in range(data_size)]\n",
    "r_df02_1k_e05_counts = pd.Series(r_df02_1k_e05).value_counts()\n",
    "#print('* noise answers in df02_1k ==', r_df02_1k_e05_counts, '\\n')\n",
    "most_fre_level_noise_df02_1k_e05 = r_df02_1k_e05_counts.idxmax()\n",
    "print(\"In df02_1k, the most frequency level with noise is:\", most_fre_level_noise_df02_1k_e05)\n",
    "most_fre_noise_df02_1k_e05 = r_df02_1k_e05_counts.max()\n",
    "print(\"In df02_1k, the most frequency with noise is\", most_fre_noise_df02_1k_e05, '\\n')\n",
    "\n",
    "r_df03_1k_e05 = [exponential(df03_1k['education'], options_df03_1k, score_1k, \n",
    "             most_fre_num_df03_1k, most_fre_num_df00_1k, epsilon05) for i in range(data_size)]\n",
    "r_df03_1k_e05_counts = pd.Series(r_df03_1k_e05).value_counts()\n",
    "#print('* noise answers in df03_1k ==', r_df03_1k_e05_counts, '\\n')\n",
    "most_fre_level_noise_df03_1k_e05 = r_df03_1k_e05_counts.idxmax()\n",
    "print(\"In df03_1k, the most frequency level with noise is:\", most_fre_level_noise_df03_1k_e05)\n",
    "most_fre_noise_df03_1k_e05 = r_df03_1k_e05_counts.max()\n",
    "print(\"In df03_1k, the most frequency with noise is\", most_fre_noise_df03_1k_e05, '\\n')\n",
    "\n",
    "\n",
    "\n",
    "print(\"============ Data size = 1000, e = 1 ==============\")\n",
    "r_df01_1k_e1 = [exponential(df01_1k['education'], options_df01_1k, score_1k, \n",
    "             most_fre_num_df01_1k, most_fre_num_df00_1k, epsilon_1) for i in range(data_size)]\n",
    "r_df01_1k_e1_counts = pd.Series(r_df01_1k_e1).value_counts()\n",
    "#print('* noise answers in df01_1k ==', r_df01_1k_e1_counts, '\\n')\n",
    "most_fre_level_noise_df01_1k_e1 = r_df01_1k_e1_counts.idxmax()\n",
    "print(\"In df01_1k, the most frequency level with noise is:\", most_fre_level_noise_df01_1k_e1)\n",
    "most_fre_noise_df01_1k_e1 = r_df01_1k_e1_counts.max()\n",
    "print(\"In df01_1k, the most frequency with noise is\", most_fre_noise_df01_1k_e1, '\\n')\n",
    "\n",
    "r_df02_1k_e1 = [exponential(df02_1k['education'], options_df02_1k, score_1k, \n",
    "             most_fre_num_df02_1k, most_fre_num_df00_1k, epsilon_1) for i in range(data_size)]\n",
    "r_df02_1k_e1_counts = pd.Series(r_df02_1k_e1).value_counts()\n",
    "#print('* noise answers in df02_1k ==', r_df02_1k_e1_counts, '\\n')\n",
    "most_fre_level_noise_df02_1k_e1 = r_df02_1k_e1_counts.idxmax()\n",
    "print(\"In df02_1k, the most frequency level with noise is:\", most_fre_level_noise_df02_1k_e1)\n",
    "most_fre_noise_df02_1k_e1 = r_df02_1k_e1_counts.max()\n",
    "print(\"In df02_1k, the most frequency with noise is\", most_fre_noise_df02_1k_e1, '\\n')\n",
    "\n",
    "r_df03_1k_e1 = [exponential(df03_1k['education'], options_df03_1k, score_1k, \n",
    "             most_fre_num_df03_1k, most_fre_num_df00_1k, epsilon_1) for i in range(data_size)]\n",
    "r_df03_1k_e1_counts = pd.Series(r_df03_1k_e1).value_counts()\n",
    "#print('* noise answers in df03_1k ==', r_df03_1k_e1_counts, '\\n')\n",
    "most_fre_level_noise_df03_1k_e1 = r_df03_1k_e1_counts.idxmax()\n",
    "print(\"In df03_1k, the most frequency level with noise is:\", most_fre_level_noise_df03_1k_e1)\n",
    "most_fre_noise_df03_1k_e1 = r_df03_1k_e1_counts.max()\n",
    "print(\"In df03_1k, the most frequency with noise is\", most_fre_noise_df03_1k_e1, '\\n')"
   ]
  },
  {
   "cell_type": "code",
   "execution_count": 97,
   "id": "4fc077b7",
   "metadata": {},
   "outputs": [
    {
     "name": "stdout",
     "output_type": "stream",
     "text": [
      "============ Data size = 4000, e = 0.5 ==============\n",
      "In df01_4k, the most frequency level with noise is:  Bachelors\n",
      "In df01_4k, the most frequency with noise is 79 \n",
      "\n",
      "In df02_4k, the most frequency level with noise is:  1st-4th\n",
      "In df02_4k, the most frequency with noise is 82 \n",
      "\n",
      "In df03_4k, the most frequency level with noise is:  Some-college\n",
      "In df03_4k, the most frequency with noise is 84 \n",
      "\n",
      "============ Data size = 4000, e = 1 ==============\n",
      "In df01_4k, the most frequency level with noise is:  Prof-school\n",
      "In df01_4k, the most frequency with noise is 72 \n",
      "\n",
      "In df02_4k, the most frequency level with noise is:  10th\n",
      "In df02_4k, the most frequency with noise is 80 \n",
      "\n",
      "In df03_4k, the most frequency level with noise is:  9th\n",
      "In df03_4k, the most frequency with noise is 81 \n",
      "\n"
     ]
    }
   ],
   "source": [
    "print(\"============ Data size = 4000, e = 0.5 ==============\")\n",
    "\n",
    "r_df01_4k_e05 = [exponential(df01_4k['education'], options_df01_4k, score_4k, \n",
    "             most_fre_num_df01_4k, most_fre_num_df00_4k, epsilon05) for i in range(data_size)]\n",
    "r_df01_4k_e05_counts = pd.Series(r_df01_4k_e05).value_counts()\n",
    "#print('* noise answers in df01_4k ==', r_df01_4k_e05_counts, '\\n')\n",
    "most_fre_level_noise_df01_4k_e05 = r_df01_4k_e05_counts.idxmax()\n",
    "print(\"In df01_4k, the most frequency level with noise is:\", most_fre_level_noise_df01_4k_e05)\n",
    "most_fre_noise_df01_4k_e05 = r_df01_4k_e05_counts.max()\n",
    "print(\"In df01_4k, the most frequency with noise is\", most_fre_noise_df01_4k_e05, '\\n')\n",
    "\n",
    "r_df02_4k_e05 = [exponential(df02_4k['education'], options_df02_4k, score_4k, \n",
    "             most_fre_num_df02_4k, most_fre_num_df00_4k, epsilon05) for i in range(data_size)]\n",
    "r_df02_4k_e05_counts = pd.Series(r_df02_4k_e05).value_counts()\n",
    "#print('* noise answers in df02_4k ==', r_df02_4k_e05_counts, '\\n')\n",
    "most_fre_level_noise_df02_4k_e05 = r_df02_4k_e05_counts.idxmax()\n",
    "print(\"In df02_4k, the most frequency level with noise is:\", most_fre_level_noise_df02_4k_e05)\n",
    "most_fre_noise_df02_4k_e05 = r_df02_4k_e05_counts.max()\n",
    "print(\"In df02_4k, the most frequency with noise is\", most_fre_noise_df02_4k_e05, '\\n')\n",
    "\n",
    "r_df03_4k_e05 = [exponential(df03_4k['education'], options_df03_4k, score_4k, \n",
    "             most_fre_num_df03_4k, most_fre_num_df00_4k, epsilon05) for i in range(data_size)]\n",
    "r_df03_4k_e05_counts = pd.Series(r_df03_4k_e05).value_counts()\n",
    "#print('* noise answers in df03_4k ==', r_df03_4k_e05_counts, '\\n')\n",
    "most_fre_level_noise_df03_4k_e05 = r_df03_4k_e05_counts.idxmax()\n",
    "print(\"In df03_4k, the most frequency level with noise is:\", most_fre_level_noise_df03_4k_e05)\n",
    "most_fre_noise_df03_4k_e05 = r_df03_4k_e05_counts.max()\n",
    "print(\"In df03_4k, the most frequency with noise is\", most_fre_noise_df03_4k_e05, '\\n')\n",
    "\n",
    "\n",
    "print(\"============ Data size = 4000, e = 1 ==============\")\n",
    "r_df01_4k_e1 = [exponential(df01_4k['education'], options_df01_4k, score_4k, \n",
    "             most_fre_num_df01_4k, most_fre_num_df00_4k, epsilon_1) for i in range(data_size)]\n",
    "r_df01_4k_e1_counts = pd.Series(r_df01_4k_e1).value_counts()\n",
    "#print('* noise answers in df01_4k ==', r_df01_4k_e1_counts, '\\n')\n",
    "most_fre_level_noise_df01_4k_e1 = r_df01_4k_e1_counts.idxmax()\n",
    "print(\"In df01_4k, the most frequency level with noise is:\", most_fre_level_noise_df01_4k_e1)\n",
    "most_fre_noise_df01_4k_e1 = r_df01_4k_e1_counts.max()\n",
    "print(\"In df01_4k, the most frequency with noise is\", most_fre_noise_df01_4k_e1, '\\n')\n",
    "\n",
    "r_df02_4k_e1 = [exponential(df02_4k['education'], options_df02_4k, score_4k, \n",
    "             most_fre_num_df02_4k, most_fre_num_df00_4k, epsilon_1) for i in range(data_size)]\n",
    "r_df02_4k_e1_counts = pd.Series(r_df02_4k_e1).value_counts()\n",
    "#print('* noise answers in df02_4k ==', r_df02_4k_e1_counts, '\\n')\n",
    "most_fre_level_noise_df02_4k_e1 = r_df02_4k_e1_counts.idxmax()\n",
    "print(\"In df02_4k, the most frequency level with noise is:\", most_fre_level_noise_df02_4k_e1)\n",
    "most_fre_noise_df02_4k_e1 = r_df02_4k_e1_counts.max()\n",
    "print(\"In df02_4k, the most frequency with noise is\", most_fre_noise_df02_4k_e1, '\\n')\n",
    "\n",
    "r_df03_4k_e1 = [exponential(df03_4k['education'], options_df03_4k, score_4k, \n",
    "             most_fre_num_df03_4k, most_fre_num_df00_4k, epsilon_1) for i in range(data_size)]\n",
    "r_df03_4k_e1_counts = pd.Series(r_df03_4k_e1).value_counts()\n",
    "#print('* noise answers in df03_4k ==', r_df03_4k_e1_counts, '\\n')\n",
    "most_fre_level_noise_df03_4k_e1 = r_df03_4k_e1_counts.idxmax()\n",
    "print(\"In df03_4k, the most frequency level with noise is:\", most_fre_level_noise_df03_4k_e1)\n",
    "most_fre_noise_df03_4k_e1 = r_df03_4k_e1_counts.max()\n",
    "print(\"In df03_4k, the most frequency with noise is\", most_fre_noise_df03_4k_e1, '\\n')"
   ]
  },
  {
   "cell_type": "code",
   "execution_count": 113,
   "id": "0122b23e",
   "metadata": {},
   "outputs": [
    {
     "data": {
      "text/plain": [
       "[79, 82, 84]"
      ]
     },
     "execution_count": 113,
     "metadata": {},
     "output_type": "execute_result"
    }
   ],
   "source": [
    "most_fre_num_list_4k_noise_e05 =[most_fre_noise_df01_4k_e05, most_fre_noise_df02_4k_e05, most_fre_noise_df03_4k_e05]\n",
    "\n",
    "most_fre_num_list_4k_noise_e1 =  [most_fre_noise_df01_4k_e1, most_fre_noise_df02_4k_e1, most_fre_noise_df03_4k_e1]\n",
    "# Test code\n",
    "most_fre_num_list_4k_noise_e05"
   ]
  },
  {
   "cell_type": "code",
   "execution_count": 110,
   "id": "dc005e8f",
   "metadata": {},
   "outputs": [],
   "source": [
    "'''\n",
    "There are two ways we can compare the distortion\n",
    "way 1: calculate the difference between true answer and noise answer\n",
    "way 2: calculate the variance between true answer and noise answer\n",
    "'''\n",
    "# way 1\n",
    "def cal_difference(true_answer, noise_answer):\n",
    "    return abs(true_answer - true_answer)\n",
    "\n",
    "# way 2\n",
    "def cal_variance(true_answer, noise_answer, epsilon):\n",
    "    '''Error: E(true answer – noisy answer)2 = Var(Lap(S(q)/e)) = 2*S(q))2/e2'''\n",
    "    variance = 2*(true_answer - noise_answer)**2/(epsilon**2)\n",
    "    return variance\n"
   ]
  },
  {
   "cell_type": "code",
   "execution_count": 126,
   "id": "b8438bef",
   "metadata": {},
   "outputs": [
    {
     "name": "stdout",
     "output_type": "stream",
     "text": [
      "Variance with data size is 4000, e =0.5: [11520000.0, 12005000.0, 21806408.0]\n"
     ]
    }
   ],
   "source": [
    "variance_4k_e05 = []\n",
    "for true_answer, noise_answer in zip(most_fre_num_list_4k, most_fre_num_list_4k_noise_e05):\n",
    "    variance = cal_variance(true_answer, noise_answer, epsilon05)\n",
    "    variance_4k_e05.append(variance)\n",
    "    \n",
    "print(f\"Variance with data size is 4000, e =0.5: {variance_4k_e05}\")"
   ]
  },
  {
   "cell_type": "code",
   "execution_count": 128,
   "id": "8113d3b9",
   "metadata": {},
   "outputs": [
    {
     "name": "stdout",
     "output_type": "stream",
     "text": [
      "Variance with data size is 4000, e = 1: [2913698.0, 3011058.0, 5471432.0]\n"
     ]
    }
   ],
   "source": [
    "variance_4k_e1 = []\n",
    "for true_answer, noise_answer in zip(most_fre_num_list_4k, most_fre_num_list_4k_noise_e1):\n",
    "    variance = cal_variance(true_answer, noise_answer, epsilon_1)\n",
    "    variance_4k_e1.append(variance)\n",
    "    \n",
    "print(f\"Variance with data size is 4000, e = 1: {variance_4k_e1}\")"
   ]
  },
  {
   "cell_type": "code",
   "execution_count": 129,
   "id": "189347e6",
   "metadata": {},
   "outputs": [
    {
     "data": {
      "image/png": "[encoded data removed]",
      "text/plain": [
       "<Figure size 432x288 with 1 Axes>"
      ]
     },
     "metadata": {
      "needs_background": "light"
     },
     "output_type": "display_data"
    }
   ],
   "source": [
    "plt.plot(variance_4k_e05, label='variance with e = 0.5 ')\n",
    "plt.plot(variance_4k_e1, label='variance with e = 1')\n",
    "plt.title('Variance with Data Set Size = 4000')\n",
    "plt.legend()\n",
    "plt.show()"
   ]
  },
  {
   "cell_type": "code",
   "execution_count": null,
   "id": "fe1c8286",
   "metadata": {},
   "outputs": [],
   "source": []
  }
 ],
 "metadata": {
  "kernelspec": {
   "display_name": "Python 3 (ipykernel)",
   "language": "python",
   "name": "python3"
  },
  "language_info": {
   "codemirror_mode": {
    "name": "ipython",
    "version": 3
   },
   "file_extension": ".py",
   "mimetype": "text/x-python",
   "name": "python",
   "nbconvert_exporter": "python",
   "pygments_lexer": "ipython3",
   "version": "3.8.12"
  }
 },
 "nbformat": 4,
 "nbformat_minor": 5
}
