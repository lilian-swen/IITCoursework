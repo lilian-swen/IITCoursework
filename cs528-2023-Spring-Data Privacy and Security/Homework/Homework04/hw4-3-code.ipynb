{
 "cells": [
  {
   "cell_type": "markdown",
   "metadata": {},
   "source": [
    "## Using SIMD operations and \"rotate\" gate to perform vector dot product\n",
    "\n",
    "A powerful feature of some HE schemes is the ability to perform SIMD operations, doing the same calculation on multiple \"slots\" (i.e. elements of a vector).  The first part of a vector dot product - the component-wise multiplication - is therefore trivial.  However, we then need to sum over the elements to obtain the scalar product.  This can be done using ROTATE and ADD operations, as demonstrated in this notebook."
   ]
  },
  {
   "cell_type": "code",
   "execution_count": 27,
   "metadata": {},
   "outputs": [],
   "source": [
    "'''Step2. Load libraries for the python code'''\n",
    "\n",
    "import os\n",
    "if \"SHEEP_HOME\" in os.environ.keys():\n",
    "  SHEEP_HOME = os.environ[\"SHEEP_HOME\"]\n",
    "else:\n",
    "  print(\"Please set environment variable SHEEP_HOME to point to location of SHEEP/frontend\")\n",
    "import sys\n",
    "sys.path.append(SHEEP_HOME)\n",
    "\n",
    "from pysheep import sheep_client"
   ]
  },
  {
   "cell_type": "code",
   "execution_count": 28,
   "metadata": {},
   "outputs": [
    {
     "data": {
      "text/plain": [
       "{'status_code': 200, 'content': ''}"
      ]
     },
     "execution_count": 28,
     "metadata": {},
     "output_type": "execute_result"
    }
   ],
   "source": [
    "'''\n",
    "Step3. Start a new job\n",
    "\n",
    "Yuanyuan Sun comment:\n",
    "The step ID here is based on my operation/experiment. Whenever you need to start a new job, \n",
    "you need to perform this step. \n",
    "'''\n",
    "sheep_client.new_job()"
   ]
  },
  {
   "cell_type": "code",
   "execution_count": 30,
   "metadata": {},
   "outputs": [
    {
     "data": {
      "text/plain": [
       "{'status_code': 200, 'content': {'nslots': 2048}}"
      ]
     },
     "execution_count": 30,
     "metadata": {},
     "output_type": "execute_result"
    }
   ],
   "source": [
    "'''\n",
    "Step 4. Use the HE(homomorphic encryption) scheme which is SEAL_BFV\n",
    "For the second experiment: the step ID is Step A. \n",
    "'''\n",
    "sheep_client.set_context(\"SEAL_BFV\")\n",
    "sheep_client.set_input_type(\"int8_t\")\n",
    "sheep_client.get_nslots()"
   ]
  },
  {
   "cell_type": "markdown",
   "metadata": {},
   "source": [
    "With this set of parameters, we have 7 slots available, so can do a dot product of two 7-component vectors.\n",
    "The circuit to perform this operation will be a MULTIPLY followed by a sequence of 6 ROTATEs and ADDs."
   ]
  },
  {
   "cell_type": "code",
   "execution_count": 31,
   "metadata": {},
   "outputs": [],
   "source": [
    "circuit = \"\"\"\n",
    "INPUTS input_0 input_1\n",
    "CONST_INPUTS rotate_1\n",
    "OUTPUTS output\n",
    "\n",
    "input_0 input_1 MULTIPLY prod_r0\n",
    "\n",
    "prod_r0 rotate_1 ROTATE prod_r1\n",
    "prod_r0 prod_r1 ADD prod_s1\n",
    "\n",
    "prod_r1 rotate_1 ROTATE prod_r2\n",
    "prod_s1 prod_r2 ADD prod_s2\n",
    "\n",
    "prod_r2 rotate_1 ROTATE prod_r3\n",
    "prod_s2 prod_r3 ADD prod_s3\n",
    "\n",
    "prod_r3 rotate_1 ROTATE prod_r4\n",
    "prod_s3 prod_r4 ADD prod_s4\n",
    "\n",
    "prod_r4 rotate_1 ROTATE prod_r5\n",
    "prod_s4 prod_r5 ADD prod_s5\n",
    "\n",
    "prod_r5 rotate_1 ROTATE prod_r6\n",
    "prod_s5 prod_r6 ADD output\n",
    "\"\"\""
   ]
  },
  {
   "cell_type": "code",
   "execution_count": 32,
   "metadata": {},
   "outputs": [
    {
     "data": {
      "text/plain": [
       "{'status_code': 200, 'content': ['input_0', 'input_1']}"
      ]
     },
     "execution_count": 32,
     "metadata": {},
     "output_type": "execute_result"
    }
   ],
   "source": [
    "sheep_client.set_circuit_text(circuit)\n",
    "sheep_client.get_inputs()"
   ]
  },
  {
   "cell_type": "markdown",
   "metadata": {},
   "source": [
    "So the two input vectors are called input_0 and input_1. Let's assign them the values {2,4,6,8,10,1,3} and {1,0,0,0,0,0,0}"
   ]
  },
  {
   "cell_type": "code",
   "execution_count": 99,
   "metadata": {},
   "outputs": [
    {
     "data": {
      "text/plain": [
       "{'status_code': 200, 'content': ''}"
      ]
     },
     "execution_count": 99,
     "metadata": {},
     "output_type": "execute_result"
    }
   ],
   "source": [
    "'''Step B. So the two input vectors are called input_0 and input_1. Let's assign them the values {2,4,6,8,10,1,3} and {1,0,0,0,0,0,0}'''\n",
    "\n",
    "sheep_client.set_inputs({\"input_0\": [2,4,6,8, 10, 1, 3], \"input_1\": [1,0,0,0, 0, 0, 0]})"
   ]
  },
  {
   "cell_type": "code",
   "execution_count": 100,
   "metadata": {},
   "outputs": [
    {
     "data": {
      "text/plain": [
       "{'status_code': 200, 'content': ['rotate_1']}"
      ]
     },
     "execution_count": 100,
     "metadata": {},
     "output_type": "execute_result"
    }
   ],
   "source": [
    "sheep_client.get_const_inputs()"
   ]
  },
  {
   "cell_type": "markdown",
   "metadata": {},
   "source": [
    "The circuit also takes a \"const input\" (that won't be encrypted) - this is how much we will ROTATE the vector by in each step, so just set it to -1"
   ]
  },
  {
   "cell_type": "code",
   "execution_count": 101,
   "metadata": {},
   "outputs": [
    {
     "data": {
      "text/plain": [
       "{'status_code': 200, 'content': ''}"
      ]
     },
     "execution_count": 101,
     "metadata": {},
     "output_type": "execute_result"
    }
   ],
   "source": [
    "sheep_client.set_const_inputs({\"rotate_1\": -1})"
   ]
  },
  {
   "cell_type": "code",
   "execution_count": 102,
   "metadata": {},
   "outputs": [
    {
     "data": {
      "text/plain": [
       "{'status_code': 200, 'content': ''}"
      ]
     },
     "execution_count": 102,
     "metadata": {},
     "output_type": "execute_result"
    }
   ],
   "source": [
    "'''Step C. Run the job'''\n",
    "sheep_client.run_job()"
   ]
  },
  {
   "cell_type": "code",
   "execution_count": 103,
   "metadata": {},
   "outputs": [
    {
     "data": {
      "text/plain": [
       "{'status_code': 200,\n",
       " 'content': {'cleartext check': {'is_correct': True},\n",
       "  'outputs': {'output': ['2,2,2,2,2,2,2'],\n",
       "   'prod_s1': ['2,0,0,0,0,0,2'],\n",
       "   'prod_s2': ['2,0,0,0,0,2,2'],\n",
       "   'prod_s3': ['2,0,0,0,2,2,2']},\n",
       "  'timings': {'decryption': '2693.107000',\n",
       "   'encryption': '3170.730000',\n",
       "   'evaluation': '16901.922000',\n",
       "   'output': '11.385000',\n",
       "   'prod_r0': '8029.834000',\n",
       "   'prod_r1': '1076.429000',\n",
       "   'prod_r2': '1062.248000',\n",
       "   'prod_r3': '1088.404000',\n",
       "   'prod_r4': '1089.470000',\n",
       "   'prod_r5': '1123.074000',\n",
       "   'prod_r6': '1145.714000',\n",
       "   'prod_s1': '148.204000',\n",
       "   'prod_s2': '365.494000',\n",
       "   'prod_s3': '240.137000',\n",
       "   'prod_s4': '316.884000',\n",
       "   'prod_s5': '270.625000',\n",
       "   'prod_s6': '302.586000'}}}"
      ]
     },
     "execution_count": 103,
     "metadata": {},
     "output_type": "execute_result"
    }
   ],
   "source": [
    "'''Step D. Get the result the client wants retrieve'''\n",
    "\n",
    "sheep_client.get_results()"
   ]
  },
  {
   "cell_type": "code",
   "execution_count": 38,
   "metadata": {},
   "outputs": [
    {
     "data": {
      "text/plain": [
       "{'status_code': 200,\n",
       " 'content': {'cleartext check': {'is_correct': True},\n",
       "  'outputs': {'output': ['2,2,2,2,2,2,2']},\n",
       "  'timings': {'decryption': '1486.130000',\n",
       "   'encryption': '3492.800000',\n",
       "   'evaluation': '21384.373000',\n",
       "   'output': '546.166000',\n",
       "   'prod_r0': '11067.923000',\n",
       "   'prod_r1': '1203.153000',\n",
       "   'prod_r2': '1186.493000',\n",
       "   'prod_r3': '1301.018000',\n",
       "   'prod_r4': '1223.178000',\n",
       "   'prod_r5': '1181.029000',\n",
       "   'prod_r6': '1498.328000',\n",
       "   'prod_s1': '221.043000',\n",
       "   'prod_s2': '199.332000',\n",
       "   'prod_s3': '399.859000',\n",
       "   'prod_s4': '356.411000',\n",
       "   'prod_s5': '368.924000'}}}"
      ]
     },
     "execution_count": 38,
     "metadata": {},
     "output_type": "execute_result"
    }
   ],
   "source": [
    "''' '''\n",
    "sheep_client.set_inputs({\"input_0\": [2,4,6,8, 10, 1, 3], \"input_1\": [1,0,0,0, 0, 0, 0]})\n",
    "\n",
    "sheep_client.get_const_inputs()\n",
    "\n",
    "sheep_client.set_const_inputs({\"rotate_1\": -1})\n",
    "\n",
    "sheep_client.run_job()\n",
    "\n",
    "sheep_client.get_results()"
   ]
  },
  {
   "cell_type": "markdown",
   "metadata": {},
   "source": [
    "So, the output is ['2,2,2,2,2,2,2'] (we always get an output vector the same length as our input vector, even though in this case we only need one number), and 2 is indeed the scalar product of [2,4,6,8,10,1,3]  and [1,0,0,0,0,0,0].  \n"
   ]
  },
  {
   "cell_type": "markdown",
   "metadata": {},
   "source": [
    "## Generalizing, and generating circuits\n",
    "\n",
    "We probably don't want to write circuits by hand, particularly if we are dealing with long vectors (HElib and SEAL can, depending on parameter choices, offer thousands of slots).   We can write a simple python function to generate circuits for arbitrary length vectors:"
   ]
  },
  {
   "cell_type": "code",
   "execution_count": 73,
   "metadata": {},
   "outputs": [],
   "source": [
    "'''Step 5. Generalizing, and generating circuits'''\n",
    "\n",
    "def generate_vector_dot_product_circuit(input_0, input_1):\n",
    "    \"\"\"\n",
    "    Given two input lists (must be equal in length) generate a SHEEP circuit to do the dot product\n",
    "    \"\"\"\n",
    "    if len(input_0) != len(input_1):\n",
    "        raise RuntimeError(\"input_0 and input_1 must be the same length\")\n",
    "    circuit_str = \"INPUTS input_0 input_1\\nCONST_INPUTS rotate_1\\nOUTPUTS output prod_s1 prod_s2 prod_s3\\ninput_0 input_1 MULTIPLY prod_r0\\n\"\n",
    "    for i in range(len(input_0)-1):\n",
    "        circuit_str += \"prod_r{} rotate_1 ROTATE prod_r{}\\n\".format(i,i+1)\n",
    "        if i==0:\n",
    "            circuit_str += \"prod_r0 prod_r1 ADD prod_s1\\n\"\n",
    "        else:\n",
    "            circuit_str += \"prod_s{} prod_r{} ADD prod_s{}\\n\".format(i,i+1,i+1)\n",
    "    circuit_str += \"prod_s{} ALIAS output\\n\".format(i+1)\n",
    "    return circuit_str"
   ]
  },
  {
   "cell_type": "markdown",
   "metadata": {},
   "source": [
    "(Note that this function is also available in ```pysheep/mid_level_benchmarks.py```)"
   ]
  },
  {
   "cell_type": "markdown",
   "metadata": {},
   "source": [
    "So, let's do the calculation in SEAL_BFV - multiply 2 vectors with 7 elements each, where each element "
   ]
  },
  {
   "cell_type": "code",
   "execution_count": 78,
   "metadata": {},
   "outputs": [],
   "source": [
    "'''Step 6. Calculate Dot Product'''\n",
    "'''Step 6.1 Input the server vector and the client vector'''\n",
    "\n",
    "import random\n",
    "input_0 = [2,4,6,8,10,1,3]\n",
    "input_1 = [1, 0, 0, 0, 0, 0, 0]"
   ]
  },
  {
   "cell_type": "markdown",
   "metadata": {},
   "source": [
    "Lets quickly do the calculation in the clear so we know what answer to expect:"
   ]
  },
  {
   "cell_type": "code",
   "execution_count": 79,
   "metadata": {},
   "outputs": [
    {
     "data": {
      "text/plain": [
       "2"
      ]
     },
     "execution_count": 79,
     "metadata": {},
     "output_type": "execute_result"
    }
   ],
   "source": [
    "sum = 0\n",
    "for i in range(len(input_0)):\n",
    "    sum += input_0[i]*input_1[i]\n",
    "sum"
   ]
  },
  {
   "cell_type": "code",
   "execution_count": 86,
   "metadata": {},
   "outputs": [
    {
     "data": {
      "text/plain": [
       "{'status_code': 200, 'content': ''}"
      ]
     },
     "execution_count": 86,
     "metadata": {},
     "output_type": "execute_result"
    }
   ],
   "source": [
    "'''Step 6.2 Start the new job for this retrieval and Use the HE library which is SEAL_BFV'''\n",
    "\n",
    "sheep_client.new_job()"
   ]
  },
  {
   "cell_type": "code",
   "execution_count": 87,
   "metadata": {},
   "outputs": [
    {
     "data": {
      "text/plain": [
       "{'status_code': 200, 'content': ''}"
      ]
     },
     "execution_count": 87,
     "metadata": {},
     "output_type": "execute_result"
    }
   ],
   "source": [
    "''' Use the HE library which is SEAL_BFV'''\n",
    "\n",
    "sheep_client.set_context(\"SEAL_BFV\")"
   ]
  },
  {
   "cell_type": "code",
   "execution_count": 88,
   "metadata": {},
   "outputs": [
    {
     "data": {
      "text/plain": [
       "{'status_code': 200, 'content': ''}"
      ]
     },
     "execution_count": 88,
     "metadata": {},
     "output_type": "execute_result"
    }
   ],
   "source": [
    "sheep_client.set_input_type(\"int16_t\")"
   ]
  },
  {
   "cell_type": "code",
   "execution_count": 89,
   "metadata": {},
   "outputs": [
    {
     "data": {
      "text/plain": [
       "{'status_code': 200, 'content': {'nslots': 2048}}"
      ]
     },
     "execution_count": 89,
     "metadata": {},
     "output_type": "execute_result"
    }
   ],
   "source": [
    "sheep_client.get_nslots()"
   ]
  },
  {
   "cell_type": "code",
   "execution_count": 91,
   "metadata": {},
   "outputs": [
    {
     "data": {
      "text/plain": [
       "{'status_code': 200, 'content': ''}"
      ]
     },
     "execution_count": 91,
     "metadata": {},
     "output_type": "execute_result"
    }
   ],
   "source": [
    "'''Step 6.3 Generate the doc product for this retrieval with the circuit'''\n",
    "\n",
    "circuit = generate_vector_dot_product_circuit(input_0,input_1)\n",
    "sheep_client.set_circuit_text(circuit)"
   ]
  },
  {
   "cell_type": "code",
   "execution_count": 92,
   "metadata": {},
   "outputs": [
    {
     "data": {
      "text/plain": [
       "{'status_code': 200, 'content': ''}"
      ]
     },
     "execution_count": 92,
     "metadata": {},
     "output_type": "execute_result"
    }
   ],
   "source": [
    "sheep_client.set_inputs({\"input_0\":input_0, \"input_1\": input_1})"
   ]
  },
  {
   "cell_type": "code",
   "execution_count": 93,
   "metadata": {},
   "outputs": [
    {
     "data": {
      "text/plain": [
       "{'status_code': 200, 'content': ''}"
      ]
     },
     "execution_count": 93,
     "metadata": {},
     "output_type": "execute_result"
    }
   ],
   "source": [
    "sheep_client.set_const_inputs({\"rotate_1\": -1})"
   ]
  },
  {
   "cell_type": "code",
   "execution_count": 94,
   "metadata": {},
   "outputs": [
    {
     "data": {
      "text/plain": [
       "{'status_code': 200, 'content': ''}"
      ]
     },
     "execution_count": 94,
     "metadata": {},
     "output_type": "execute_result"
    }
   ],
   "source": [
    "sheep_client.set_timeout(60)"
   ]
  },
  {
   "cell_type": "code",
   "execution_count": 95,
   "metadata": {},
   "outputs": [
    {
     "data": {
      "text/plain": [
       "{'status_code': 200, 'content': ''}"
      ]
     },
     "execution_count": 95,
     "metadata": {},
     "output_type": "execute_result"
    }
   ],
   "source": [
    "sheep_client.run_job()"
   ]
  },
  {
   "cell_type": "code",
   "execution_count": 96,
   "metadata": {},
   "outputs": [
    {
     "data": {
      "text/plain": [
       "True"
      ]
     },
     "execution_count": 96,
     "metadata": {},
     "output_type": "execute_result"
    }
   ],
   "source": [
    "sheep_client.get_results()['content'][\"cleartext check\"][\"is_correct\"]"
   ]
  },
  {
   "cell_type": "code",
   "execution_count": 97,
   "metadata": {},
   "outputs": [
    {
     "data": {
      "text/plain": [
       "'2'"
      ]
     },
     "execution_count": 97,
     "metadata": {},
     "output_type": "execute_result"
    }
   ],
   "source": [
    "sheep_client.get_results()['content'][\"outputs\"][\"output\"][0].split(\",\")[0]"
   ]
  },
  {
   "cell_type": "markdown",
   "metadata": {},
   "source": [
    "So we get the right answer!"
   ]
  },
  {
   "cell_type": "code",
   "execution_count": 98,
   "metadata": {},
   "outputs": [
    {
     "data": {
      "text/plain": [
       "'16901.922000'"
      ]
     },
     "execution_count": 98,
     "metadata": {},
     "output_type": "execute_result"
    }
   ],
   "source": [
    "sheep_client.get_results()[\"content\"][\"timings\"][\"evaluation\"]"
   ]
  },
  {
   "cell_type": "code",
   "execution_count": null,
   "metadata": {},
   "outputs": [],
   "source": []
  },
  {
   "cell_type": "code",
   "execution_count": null,
   "metadata": {},
   "outputs": [],
   "source": []
  },
  {
   "cell_type": "code",
   "execution_count": null,
   "metadata": {},
   "outputs": [],
   "source": []
  }
 ],
 "metadata": {
  "kernelspec": {
   "display_name": "Python 3",
   "language": "python",
   "name": "python3"
  },
  "language_info": {
   "codemirror_mode": {
    "name": "ipython",
    "version": 3
   },
   "file_extension": ".py",
   "mimetype": "text/x-python",
   "name": "python",
   "nbconvert_exporter": "python",
   "pygments_lexer": "ipython3",
   "version": "3.6.9"
  }
 },
 "nbformat": 4,
 "nbformat_minor": 2
}
